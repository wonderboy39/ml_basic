{
 "cells": [
  {
   "cell_type": "code",
   "execution_count": 54,
   "metadata": {},
   "outputs": [
    {
     "name": "stdout",
     "output_type": "stream",
     "text": [
      "/Users/soon/workspace/python/ml_basic/about_python\r\n"
     ]
    }
   ],
   "source": [
    "!pwd"
   ]
  },
  {
   "cell_type": "code",
   "execution_count": 55,
   "metadata": {},
   "outputs": [
    {
     "name": "stdout",
     "output_type": "stream",
     "text": [
      "../img/overfitting_hunkim.png\r\n"
     ]
    }
   ],
   "source": [
    "!ls ../img/overfitting_hunkim.png"
   ]
  },
  {
   "cell_type": "markdown",
   "metadata": {},
   "source": [
    "## overfitting, under fitting\n",
    "- over fitting\n",
    " : Training 데이터 셋 안에서는 정말 정확히 동작하는데 다른 데이터에 대해서는 엉뚱한 동작을 하게 되는 것\n",
    "\n",
    "참고\n",
    "![asdfasdf](../img/overfitting_hunkim.png)\n",
    "\n",
    "위 그림에서 보듯이 두번째 그림에는 너무 training data에 맞춰서 선이 구부러져 있는데, 이렇게 도출된 모델은 다른 데이터가 들어왔을때 똑같은 모델이 되리라는 보장을 할 수 없다. 즉, 일반화에서 멀어진 현상을 이야기함.\n",
    "\n",
    "## 여기서는 overfitting을\n",
    "- Reducing the network's size  \n",
    "network의 사이즈를 줄여나가는 방식  \n",
    "- weight regularization  \n",
    "가중치가 일정 범위안에서만 존재하도록 제한하는 방식  \n",
    "- adding dropout  \n",
    "랜덤하게 0을 대입하는 방식...  \n",
    "을 수행해서 overfitting을 줄여나간다.\n",
    "\n",
    "## Reducing the network's size\n",
    "network 갯수를 줄이는 것이다.  \n",
    "결론적으로 쉽게 이야기하면, layer의 수를 얼마나 잡을지를 결정할 수 있는 함수는 없다. 따라서 직접 돌려보면서 network의 사이즈를 줄이거나 늘려야 한다는 이야기를 하려고 하는데 그 근거와 예를 들기 위해 길게 설명합니다. \n",
    "\n",
    "딥러닝에서는 학습 가능한 파라미터들의 갯수를 'capacity'라고 부른다. 직관적으로, 하나의 모델에 더 많은 parameter들이 더 많은 'memorization capacity'를 가지게 되고 그럼으로 인해서 training sample과 대상간에 dictionary와 같은 형태의 매핑형태로 쉽게 배울 수 있다.  \n",
    "  \n",
    "하지만 네트워크의 memorization resource들을 제한적으로 가지고있다면 mapping을 쉽게 배울 수 없는데, 이런 것으로 인해 loss를 줄이기 위해 target에 대한 예측력을 가진 압축된 representation을 학습해야 한다.이 압축된 representation을 정확하게 우리가 관심을 가지는 representation의 유형이라고 하네요...  \n",
    "  \n",
    "아쉽게도 마법과 같은 함수가 없는 없다고 함. 올바른 수의 layer가 무엇인지 또는 각 layer의 크기가 적절한지를 결정하는 마법과 같은 공식은 없다. 데이터에 맞는 모델 크기를 찾으려면 다양한 아키텍처의 배열을 검증해야 한다.(test set이 아닌 validation set에서)  \n",
    "  \n",
    "적절한 모델의 크기를 찾는 일반적인 워크 플로우는 **비교적 적은수의 레이어**와 **적은 수의 매개변수**로 시작해서 validation loss과 관련하여 **return이 줄어드는 것(unitil you see diminishing returns)을 볼때까지** layer의 크기를 늘리거나 새 layer를 추가하는 것이다.  \n",
    "  \n",
    "머신러닝과의 비교: http://pythonkim.tistory.com/42 [파이쿵]  \n",
    "머신러닝에서는 training data를 늘리거나, feature의 갯수를 줄이거나, dropout을 사용한다. feature의 갯수를 줄일때, 여기서 설명하는 것처럼 sigmoid, relu의 방식을 설명하는데, 더 좋은 방법은 dropout이라고 함.     \n",
    "  \n",
    "예제)  \n",
    "network의 사이즈를 지정하고 train data와 test data에 대한 validation 데이터를 얻어내는 예제  \n",
    "```code\n",
    "from keras import models\n",
    "from keras import layers\n",
    "\n",
    "## model 세팅(layer, activation 등)\n",
    "original_model = models.Sequential()\n",
    "original_model.add(layers.Dense(16, activation='relu', input_shape=(10000,)))\n",
    "original_model.add(layers.Dense(16, activation='relu'))\n",
    "original_model.add(layers.Dense(1, activation='sigmoid'))\n",
    "\n",
    "## 얻어낸 original_model의 activiation과 layer 정보를 통해 loss를 binary_crossentropy방식으로 컴파일\n",
    "original_model.compile(optimizer='rmsprop',loss='binary_crossentropy',metrics=['acc'])\n",
    "\n",
    "## original_hist :: 실제 계산 (학습데이터, 테스트 데이터를 통해 validation_loss등을 계산)\n",
    "original_hist = original_model.fit(x_train, y_train,epochs=20,batch_size=512,validation_data=(x_test, y_test))\n",
    "\n",
    "## 계산한 validation_loss를 얻어낸다.\n",
    "epochs = range(1, 21)\n",
    "original_val_loss = original_hist.history['val_loss']\n",
    "\n",
    "## 그래프에 표현\n",
    "import matplotlib.pyplot as plt\n",
    "\n",
    "plt.plot(epochs, original_val_loss, 'b+', label='Original model')\n",
    "plt.xlabel('Epochs')\n",
    "plt.ylabel('Validation loss')\n",
    "plt.legend()\n",
    "\n",
    "plt.show()\n",
    "```\n",
    "\n",
    "\n",
    "## weight regularization\n",
    "overfitting을 완화하는 일반적인 방법은 가중치(cost가 작은 값을 가지도록 만들어서 네트워크의 complexity 에 제한점을 두는 것(to put constraints)이다. 이렇게 하면 가중치값의 분포를 조금 더 regular, 즉 정규화할수 있다. 이러한 방식을 가중치 정규화라 한다. \n",
    "  \n",
    "keras에서는 아래와 같이 두가지의 가중치를 구하는 방식이 있다.    \n",
    "- L1 regularization :  \n",
    "    여기서 추가된 cost는 가중치 상관계수의 절대값에 비례한다.  \n",
    "- L2 regularization :  \n",
    "    여기서 추가된 cost는 가중치의 상관계수의 제곱에 피례한다. (예를 들어 가중치의 L2 norm 이라고 불린다.)  \n",
    "    L2 regularization은 신경 네트워크의 맥락에서(in the context of neural networks), 체중 감량(weight decay)라고도 한다.  \n",
    "\n",
    "예제)\n",
    "아래와 같이 kernel_regularizer라는 keyword argument의 value로 regularizers.l2(number)를 대입하는 것으로 간단히 해결되는 듯하다.    \n",
    "```code\n",
    "from keras import regularizers\n",
    "\n",
    "l2_model = models.Sequential()\n",
    "l2_model.add(layers.Dense(16, kernel_regularizer=regularizers.l2(0.001), activation='relu', input_shape=(10000,)))\n",
    "l2_model.add(layers.Dense(16,kernel_regularizer=regularizers.l2(0.001), activation='relu'))\n",
    "l2_model.add(layers.Dense(1, activation='sigmoid'))\n",
    "```\n",
    "\n",
    "## weight regularization in keras\n",
    "케라스에서는 weight_regularizer 인스턴스들을 keyword argument로 전달 가능하다.\n",
    "아래의 코드는 movie review classification network 에 L2 weight rgularization을 더하는 코드다.\n",
    "ex)\n",
    "```code\n",
    "from keras import regularizers\n",
    "\n",
    "l2_model = models.Sequential()\n",
    "\n",
    "l2_model.add(layers.Dense(16, kernel_regularizer=regularizers.l2(0.001),\n",
    "                          activation='relu', input_shape=(10000,)))\n",
    "l2_model.add(layers.Dense(16, kernel_regularizer=regularizers.l2(0.001),\n",
    "                          activation='relu'))\n",
    "l2_model.add(layers.Dense(1, activation='sigmoid'))\n",
    "```\n",
    "regularization에 대한 쉬운 설명 참고\n",
    "http://pythonkim.tistory.com/23 [파이쿵]\n",
    "\n",
    "\n",
    "\n",
    "**12(0.001)의 의미**\n",
    "l2 (0.001)는 계층의 가중치 행렬에 있는 모든 상관계수가 0.001 * weight_coefficient_value를 네트워크의 전체 손실에 더한다는 것. 주의할 것은 이런 페널티는 오직 training time에만 더할 수 있기 때문에, 이 network의 loss는 test time에서의 loss보다 training time에서의 loss가 훨씬 커진다.\n",
    "\n",
    "## Adding dropout\n",
    "- 신경망 네트워크에서 흔히 쓰이는 정규화 방법(regularization techniques)중의 하나.  \n",
    "토론토 대학의 Hinton과 그의 학생들의 노가다로 구해졌다고 함.  \n",
    "- 계층에 적용되는 dropout은, training time 동안 layer의 다수의 output feature들을 \"dropout\"(0으로 세팅)으로 구성한다고 함.  \n",
    "- 의역) 즉, training time동안 layer의 다수의 output feature들을 0으로 세팅하는데 이렇게 0으로 세팅하는 것을 drop out이라 함.\n",
    "- 예를 들면 \\[0.2, 0.5, 1.3, 0.8, 1.1\\] 을 \\[0, 0.5, 1.3, 0, 1.1\\]로 바꿔줌\n",
    "- **\"드롭아웃비율(dropout rate)\"**\n",
    "zero-out 되는 feature들의 비율(the fraction of being zeroed-out)이다.  \n",
    "(미안합니다. 요건 구글 번역입니다.) 일반적으로 0.2와 0.5 사이에 설정됩니다. 테스트 시간에는 단위가 제거되지 않고 레이어의 출력 값이 드롭 아웃 비율과 같은 비율로 축소되므로 교육 시간보다 더 많은 단위가 활성화되어 있다는 사실에 균형을 맞출 수 있습니다.  \n",
    "  \n",
    "Numpy 행렬이 layer의 output인 layer_output을 포함하고 있다고 가정하자. 학습 시간(training time)에 우리는 무작위로 행렬(matrix)의 값의 일부를 zero-out할 것이다.  \n",
    "  \n",
    "```code\n",
    "layer_output *= np.randint(0, high=2. size=layer_output.shape)\n",
    "```\n",
    "```code\n",
    "low : int  \n",
    "    Lowest(singned) integer to be drawn from the distribution  \n",
    "high : int, optimal\n",
    "    If provided, one above the largest (signed) integer to be drawn from the distribution  \n",
    "```\n",
    "  "
   ]
  },
  {
   "cell_type": "markdown",
   "metadata": {},
   "source": [
    "## Training data 준비"
   ]
  },
  {
   "cell_type": "code",
   "execution_count": 1,
   "metadata": {
    "scrolled": true
   },
   "outputs": [
    {
     "name": "stderr",
     "output_type": "stream",
     "text": [
      "Using TensorFlow backend.\n"
     ]
    }
   ],
   "source": [
    "import keras"
   ]
  },
  {
   "cell_type": "code",
   "execution_count": 3,
   "metadata": {},
   "outputs": [],
   "source": [
    "from keras.datasets import imdb\n",
    "import numpy as np\n",
    "\n",
    "# https://s3.amazonaws.com/text-datasets/imdb.npz에서 데이터 다운로드\n",
    "(train_data, train_labels), (test_data, test_labels) = imdb.load_data(num_words=10000)"
   ]
  },
  {
   "cell_type": "code",
   "execution_count": 10,
   "metadata": {},
   "outputs": [],
   "source": [
    "def vectorize_sequence(sequences, dimension=10000):\n",
    "    results = np.zeros((len(sequences), dimension))\n",
    "    for i, sequence in enumerate(sequences):\n",
    "        results[i, sequence] = 1.\n",
    "    return results"
   ]
  },
  {
   "cell_type": "code",
   "execution_count": 13,
   "metadata": {},
   "outputs": [],
   "source": [
    "# 각 데이타(train_data, test_data)는 x변수(x_train, x_test)\n",
    "# 각 label들은 y변수(y_train, y_test)\n",
    "\n",
    "# Our vectorized training data\n",
    "x_train = vectorize_sequence(train_data)\n",
    "# Our vectorized test data\n",
    "x_test = vectorize_sequence(test_data)\n",
    "\n",
    "# Our vectorized labels\n",
    "y_train = np.asarray(train_labels).astype('float32')\n",
    "y_test = np.asarray(test_labels).astype('float32')"
   ]
  },
  {
   "cell_type": "markdown",
   "metadata": {},
   "source": [
    "## Reducing the network's size"
   ]
  },
  {
   "cell_type": "code",
   "execution_count": 26,
   "metadata": {},
   "outputs": [],
   "source": [
    "from keras import models\n",
    "from keras import layers\n",
    "\n",
    "original_model = models.Sequential()\n",
    "original_model.add(layers.Dense(16, activation='relu', input_shape=(10000,)))\n",
    "original_model.add(layers.Dense(16, activation='relu'))\n",
    "original_model.add(layers.Dense(1, activation='sigmoid'))\n",
    "\n",
    "original_model.compile(optimizer='rmsprop', loss='binary_crossentropy', metrics=['acc'])"
   ]
  },
  {
   "cell_type": "markdown",
   "metadata": {},
   "source": [
    "위의 것을 작은 네트워크로 바꿔보면"
   ]
  },
  {
   "cell_type": "code",
   "execution_count": 27,
   "metadata": {},
   "outputs": [],
   "source": [
    "smaller_model = models.Sequential()\n",
    "smaller_model.add(layers.Dense(4, activation='relu', input_shape=(10000,)))\n",
    "smaller_model.add(layers.Dense(4, activation='relu'))\n",
    "smaller_model.add(layers.Dense(1, activation='sigmoid'))\n",
    "\n",
    "smaller_model.compile(optimizer='rmsprop', loss='binary_crossentropy', metrics=['acc'])"
   ]
  },
  {
   "cell_type": "markdown",
   "metadata": {},
   "source": [
    "## original network와 smaller network간의 validation loss를 비교해본다.  \n",
    "**original_hist**에는 original network를  \n",
    "**smaller_model_hist**에는 smaller network를 담는다.  "
   ]
  },
  {
   "cell_type": "code",
   "execution_count": 28,
   "metadata": {},
   "outputs": [
    {
     "name": "stdout",
     "output_type": "stream",
     "text": [
      "Train on 25000 samples, validate on 25000 samples\n",
      "Epoch 1/20\n",
      "25000/25000 [==============================] - 11s 446us/step - loss: 0.4709 - acc: 0.8208 - val_loss: 0.3465 - val_acc: 0.8810\n",
      "Epoch 2/20\n",
      "25000/25000 [==============================] - 10s 411us/step - loss: 0.2653 - acc: 0.9098 - val_loss: 0.2951 - val_acc: 0.8846\n",
      "Epoch 3/20\n",
      "25000/25000 [==============================] - 7s 272us/step - loss: 0.2054 - acc: 0.9256 - val_loss: 0.2783 - val_acc: 0.8900\n",
      "Epoch 4/20\n",
      "25000/25000 [==============================] - 7s 267us/step - loss: 0.1701 - acc: 0.9400 - val_loss: 0.2921 - val_acc: 0.8849\n",
      "Epoch 5/20\n",
      "25000/25000 [==============================] - 6s 248us/step - loss: 0.1449 - acc: 0.9494 - val_loss: 0.3064 - val_acc: 0.8806\n",
      "Epoch 6/20\n",
      "25000/25000 [==============================] - 6s 248us/step - loss: 0.1279 - acc: 0.9560 - val_loss: 0.3457 - val_acc: 0.8723\n",
      "Epoch 7/20\n",
      "25000/25000 [==============================] - 6s 248us/step - loss: 0.1148 - acc: 0.9610 - val_loss: 0.3837 - val_acc: 0.8656\n",
      "Epoch 8/20\n",
      "25000/25000 [==============================] - 6s 257us/step - loss: 0.1004 - acc: 0.9653 - val_loss: 0.3857 - val_acc: 0.8683\n",
      "Epoch 9/20\n",
      "25000/25000 [==============================] - 6s 236us/step - loss: 0.0916 - acc: 0.9683 - val_loss: 0.4116 - val_acc: 0.8640\n",
      "Epoch 10/20\n",
      "25000/25000 [==============================] - 6s 253us/step - loss: 0.0800 - acc: 0.9736 - val_loss: 0.4441 - val_acc: 0.8617\n",
      "Epoch 11/20\n",
      "25000/25000 [==============================] - 6s 246us/step - loss: 0.0723 - acc: 0.9768 - val_loss: 0.4542 - val_acc: 0.8640\n",
      "Epoch 12/20\n",
      "25000/25000 [==============================] - 6s 224us/step - loss: 0.0658 - acc: 0.9781 - val_loss: 0.4889 - val_acc: 0.8609\n",
      "Epoch 13/20\n",
      "25000/25000 [==============================] - 7s 288us/step - loss: 0.0547 - acc: 0.9830 - val_loss: 0.5431 - val_acc: 0.8566\n",
      "Epoch 14/20\n",
      "25000/25000 [==============================] - 5s 210us/step - loss: 0.0511 - acc: 0.9839 - val_loss: 0.5951 - val_acc: 0.8474\n",
      "Epoch 15/20\n",
      "25000/25000 [==============================] - 6s 258us/step - loss: 0.0418 - acc: 0.9878 - val_loss: 0.5962 - val_acc: 0.8546\n",
      "Epoch 16/20\n",
      "25000/25000 [==============================] - 5s 218us/step - loss: 0.0394 - acc: 0.9886 - val_loss: 0.6390 - val_acc: 0.8505\n",
      "Epoch 17/20\n",
      "25000/25000 [==============================] - 6s 256us/step - loss: 0.0332 - acc: 0.9904 - val_loss: 0.6455 - val_acc: 0.8543\n",
      "Epoch 18/20\n",
      "25000/25000 [==============================] - 6s 254us/step - loss: 0.0291 - acc: 0.9915 - val_loss: 0.6788 - val_acc: 0.8529\n",
      "Epoch 19/20\n",
      "25000/25000 [==============================] - 6s 240us/step - loss: 0.0247 - acc: 0.9936 - val_loss: 0.7263 - val_acc: 0.8484\n",
      "Epoch 20/20\n",
      "25000/25000 [==============================] - 6s 229us/step - loss: 0.0237 - acc: 0.9929 - val_loss: 0.7511 - val_acc: 0.8506\n"
     ]
    }
   ],
   "source": [
    "original_hist = original_model.fit(x_train, y_train, epochs=20, batch_size=512, validation_data=(x_test, y_test))"
   ]
  },
  {
   "cell_type": "raw",
   "metadata": {},
   "source": [
    "각 epoch마다 굉장히 오래 걸린다.\n",
    "\n"
   ]
  },
  {
   "cell_type": "code",
   "execution_count": 29,
   "metadata": {
    "scrolled": true
   },
   "outputs": [
    {
     "name": "stdout",
     "output_type": "stream",
     "text": [
      "Train on 25000 samples, validate on 25000 samples\n",
      "Epoch 1/20\n",
      "25000/25000 [==============================] - 10s 403us/step - loss: 0.5605 - acc: 0.8101 - val_loss: 0.4690 - val_acc: 0.8594\n",
      "Epoch 2/20\n",
      "25000/25000 [==============================] - 8s 330us/step - loss: 0.3872 - acc: 0.8851 - val_loss: 0.3679 - val_acc: 0.8758\n",
      "Epoch 3/20\n",
      "25000/25000 [==============================] - 5s 209us/step - loss: 0.2976 - acc: 0.9064 - val_loss: 0.3150 - val_acc: 0.8858\n",
      "Epoch 4/20\n",
      "25000/25000 [==============================] - 6s 236us/step - loss: 0.2457 - acc: 0.9192 - val_loss: 0.2907 - val_acc: 0.8896\n",
      "Epoch 5/20\n",
      "25000/25000 [==============================] - 6s 243us/step - loss: 0.2122 - acc: 0.9278 - val_loss: 0.2803 - val_acc: 0.8902\n",
      "Epoch 6/20\n",
      "25000/25000 [==============================] - 5s 186us/step - loss: 0.1887 - acc: 0.9346 - val_loss: 0.2780 - val_acc: 0.8906\n",
      "Epoch 7/20\n",
      "25000/25000 [==============================] - 5s 204us/step - loss: 0.1713 - acc: 0.9408 - val_loss: 0.2798 - val_acc: 0.8887\n",
      "Epoch 8/20\n",
      "25000/25000 [==============================] - 5s 216us/step - loss: 0.1566 - acc: 0.9472 - val_loss: 0.2849 - val_acc: 0.8862\n",
      "Epoch 9/20\n",
      "25000/25000 [==============================] - 5s 189us/step - loss: 0.1438 - acc: 0.9520 - val_loss: 0.2944 - val_acc: 0.8844\n",
      "Epoch 10/20\n",
      "25000/25000 [==============================] - 5s 194us/step - loss: 0.1329 - acc: 0.9556 - val_loss: 0.3155 - val_acc: 0.8775\n",
      "Epoch 11/20\n",
      "25000/25000 [==============================] - 6s 227us/step - loss: 0.1236 - acc: 0.9595 - val_loss: 0.3160 - val_acc: 0.8797\n",
      "Epoch 12/20\n",
      "25000/25000 [==============================] - 7s 279us/step - loss: 0.1150 - acc: 0.9628 - val_loss: 0.3248 - val_acc: 0.8792\n",
      "Epoch 13/20\n",
      "25000/25000 [==============================] - 5s 198us/step - loss: 0.1073 - acc: 0.9654 - val_loss: 0.3396 - val_acc: 0.8762\n",
      "Epoch 14/20\n",
      "25000/25000 [==============================] - 4s 174us/step - loss: 0.1000 - acc: 0.9682 - val_loss: 0.3638 - val_acc: 0.8704\n",
      "Epoch 15/20\n",
      "25000/25000 [==============================] - 5s 184us/step - loss: 0.0939 - acc: 0.9711 - val_loss: 0.3708 - val_acc: 0.8710\n",
      "Epoch 16/20\n",
      "25000/25000 [==============================] - 5s 211us/step - loss: 0.0882 - acc: 0.9724 - val_loss: 0.3839 - val_acc: 0.8698\n",
      "Epoch 17/20\n",
      "25000/25000 [==============================] - 5s 196us/step - loss: 0.0822 - acc: 0.9758 - val_loss: 0.4022 - val_acc: 0.8669\n",
      "Epoch 18/20\n",
      "25000/25000 [==============================] - 5s 216us/step - loss: 0.0771 - acc: 0.9778 - val_loss: 0.4157 - val_acc: 0.8670\n",
      "Epoch 19/20\n",
      "25000/25000 [==============================] - 5s 186us/step - loss: 0.0724 - acc: 0.9791 - val_loss: 0.4354 - val_acc: 0.8643\n",
      "Epoch 20/20\n",
      "25000/25000 [==============================] - 5s 190us/step - loss: 0.0676 - acc: 0.9805 - val_loss: 0.4666 - val_acc: 0.8603\n"
     ]
    }
   ],
   "source": [
    "smaller_model_hist = smaller_model.fit(x_train, y_train, epochs=20, batch_size=512, validation_data=(x_test, y_test))"
   ]
  },
  {
   "cell_type": "code",
   "execution_count": 33,
   "metadata": {},
   "outputs": [],
   "source": [
    "epochs = range(1,21)\n",
    "original_val_loss = original_hist.history['val_loss']\n",
    "smaller_model_val_loss = smaller_model_hist.history['val_loss']"
   ]
  },
  {
   "cell_type": "code",
   "execution_count": 36,
   "metadata": {},
   "outputs": [
    {
     "data": {
      "image/png": "[encoded data removed]",
      "text/plain": [
       "<matplotlib.figure.Figure at 0x11f16cc90>"
      ]
     },
     "metadata": {},
     "output_type": "display_data"
    }
   ],
   "source": [
    "import matplotlib.pyplot as plt\n",
    "\n",
    "# b+ is for 'blue cross'\n",
    "plt.plot(epochs, original_val_loss, 'b+', label='Original model')\n",
    "# \"bo\" is for 'blue dot'\n",
    "plt.plot(epochs, smaller_model_val_loss, 'bo', label='Smaller model')\n",
    "plt.xlabel('Epochs') # running step...\n",
    "plt.ylabel('Validation loss') # Validation 손실\n",
    "\n",
    "plt.show()"
   ]
  },
  {
   "cell_type": "markdown",
   "metadata": {},
   "source": [
    "```code\n",
    "+ : Original model\n",
    ". : Smaller model\n",
    "```\n",
    "4에서 6사이에서 smaller network가 overfitting을 하기 시작하고  \n",
    "이것(validation loss)의 성능(performance)은 overfitting을 시작하면서부터 현저하게 느려진다.  \n",
    "  \n",
    "Now, for kicks, 벤치마크에 문제가 허용하는 것보다 훨씬 많은 용량을 가진 네트워크를 추가해보면 아래와 같다.  "
   ]
  },
  {
   "cell_type": "code",
   "execution_count": 37,
   "metadata": {},
   "outputs": [],
   "source": [
    "bigger_model = models.Sequential()\n",
    "bigger_model.add(layers.Dense(512, activation='relu', input_shape=(10000,)))\n",
    "bigger_model.add(layers.Dense(512, activation='relu'))\n",
    "bigger_model.add(layers.Dense(1, activation='sigmoid'))"
   ]
  },
  {
   "cell_type": "markdown",
   "metadata": {},
   "source": [
    "## bigger_model의 loss를 'binary_crossentropy'로 compile 하고, bigger_model_hist에 fit 시킴"
   ]
  },
  {
   "cell_type": "code",
   "execution_count": 43,
   "metadata": {},
   "outputs": [],
   "source": [
    "bigger_model.compile(optimizer='rmsprop', loss='binary_crossentropy', metrics=['acc'])"
   ]
  },
  {
   "cell_type": "code",
   "execution_count": 42,
   "metadata": {},
   "outputs": [
    {
     "name": "stdout",
     "output_type": "stream",
     "text": [
      "Train on 25000 samples, validate on 25000 samples\n",
      "Epoch 1/20\n",
      "25000/25000 [==============================] - 37s 1ms/step - loss: 0.4668 - acc: 0.7938 - val_loss: 0.3724 - val_acc: 0.8298\n",
      "Epoch 2/20\n",
      "25000/25000 [==============================] - 34s 1ms/step - loss: 0.2220 - acc: 0.9119 - val_loss: 0.2870 - val_acc: 0.8853\n",
      "Epoch 3/20\n",
      "25000/25000 [==============================] - 30s 1ms/step - loss: 0.1292 - acc: 0.9523 - val_loss: 0.3339 - val_acc: 0.8822\n",
      "Epoch 4/20\n",
      "25000/25000 [==============================] - 29s 1ms/step - loss: 0.0677 - acc: 0.9815 - val_loss: 0.4298 - val_acc: 0.8829\n",
      "Epoch 5/20\n",
      "25000/25000 [==============================] - 31s 1ms/step - loss: 0.0399 - acc: 0.9892 - val_loss: 0.5364 - val_acc: 0.8808\n",
      "Epoch 6/20\n",
      "25000/25000 [==============================] - 29s 1ms/step - loss: 0.0534 - acc: 0.9888 - val_loss: 0.5685 - val_acc: 0.8826\n",
      "Epoch 7/20\n",
      "25000/25000 [==============================] - 26s 1ms/step - loss: 0.0732 - acc: 0.9915 - val_loss: 0.8411 - val_acc: 0.8545\n",
      "Epoch 8/20\n",
      "25000/25000 [==============================] - 25s 1ms/step - loss: 0.0029 - acc: 0.9994 - val_loss: 1.6622 - val_acc: 0.7484\n",
      "Epoch 9/20\n",
      "25000/25000 [==============================] - 26s 1ms/step - loss: 0.0255 - acc: 0.9939 - val_loss: 0.6777 - val_acc: 0.8805\n",
      "Epoch 10/20\n",
      "25000/25000 [==============================] - 25s 1ms/step - loss: 1.4167e-04 - acc: 1.0000 - val_loss: 2.3167 - val_acc: 0.7376\n",
      "Epoch 11/20\n",
      "25000/25000 [==============================] - 26s 1ms/step - loss: 0.0770 - acc: 0.9901 - val_loss: 0.6840 - val_acc: 0.8760\n",
      "Epoch 12/20\n",
      "25000/25000 [==============================] - 26s 1ms/step - loss: 0.0480 - acc: 0.9911 - val_loss: 0.6824 - val_acc: 0.8762\n",
      "Epoch 13/20\n",
      "25000/25000 [==============================] - 26s 1ms/step - loss: 3.8093e-04 - acc: 1.0000 - val_loss: 0.7705 - val_acc: 0.8773\n",
      "Epoch 14/20\n",
      "25000/25000 [==============================] - 26s 1ms/step - loss: 0.0559 - acc: 0.9920 - val_loss: 0.8277 - val_acc: 0.8710\n",
      "Epoch 15/20\n",
      "25000/25000 [==============================] - 26s 1ms/step - loss: 0.0073 - acc: 0.9987 - val_loss: 2.2676 - val_acc: 0.7278\n",
      "Epoch 16/20\n",
      "25000/25000 [==============================] - 26s 1ms/step - loss: 0.0144 - acc: 0.9974 - val_loss: 0.8503 - val_acc: 0.8733\n",
      "Epoch 17/20\n",
      "25000/25000 [==============================] - 26s 1ms/step - loss: 8.1309e-05 - acc: 1.0000 - val_loss: 0.8786 - val_acc: 0.8761\n",
      "Epoch 18/20\n",
      "25000/25000 [==============================] - 26s 1ms/step - loss: 0.0490 - acc: 0.9937 - val_loss: 0.8477 - val_acc: 0.8716\n",
      "Epoch 19/20\n",
      "25000/25000 [==============================] - 26s 1ms/step - loss: 0.0184 - acc: 0.9968 - val_loss: 1.4765 - val_acc: 0.8177\n",
      "Epoch 20/20\n",
      "25000/25000 [==============================] - 26s 1ms/step - loss: 0.0024 - acc: 0.9996 - val_loss: 0.8793 - val_acc: 0.8718\n"
     ]
    }
   ],
   "source": [
    "bigger_model_hist = bigger_model.fit(x_train, y_train, epochs=20, batch_size=512, validation_data=(x_test, y_test))"
   ]
  },
  {
   "cell_type": "markdown",
   "metadata": {},
   "source": [
    "## binary_crossentropy로 컴파일한 bigger_model_hist의 loss(손실)만을 따로 담은후, 그래프로 표현해보면.."
   ]
  },
  {
   "cell_type": "code",
   "execution_count": 50,
   "metadata": {
    "scrolled": false
   },
   "outputs": [
    {
     "data": {
      "image/png": "[encoded data removed]",
      "text/plain": [
       "<matplotlib.figure.Figure at 0x10add3cd0>"
      ]
     },
     "metadata": {},
     "output_type": "display_data"
    }
   ],
   "source": [
    "bigger_model_val_loss = bigger_model_hist.history['val_loss']\n",
    "\n",
    "plt.plot(epochs, original_val_loss, 'b+', label='Original model')\n",
    "plt.plot(epochs, bigger_model_val_loss, 'bo', label='Bigger model')\n",
    "plt.xlabel('Epochs')\n",
    "plt.ylabel('Validation loss')\n",
    "plt.legend()\n",
    "\n",
    "plt.show()"
   ]
  },
  {
   "cell_type": "markdown",
   "metadata": {},
   "source": [
    "위 그림을 보면 overfitting을 거의 one epoch(거의 1)부터 시작하는 것을 볼수 있다. validation loss가 굉장이 노이즈가 많이 낀것으로 보임."
   ]
  },
  {
   "cell_type": "markdown",
   "metadata": {},
   "source": [
    "여기까지의 정리를 해보면 우리는 overfitting을 줄이기 위한 방법들 세가지  \n",
    "(네트워크 사이즈 줄이기,가중치 정규화, 네트워크 사이즈 줄이기)중에 **네트워크의 사이즈 줄이기**를 하고 있고, bigger model의 overfitting이 굉장히 크다는 것을 확인 가능하다."
   ]
  },
  {
   "cell_type": "markdown",
   "metadata": {},
   "source": [
    "## 두 네트워크의 training loss (학습손실)을 아래에 표시해보면"
   ]
  },
  {
   "cell_type": "code",
   "execution_count": 58,
   "metadata": {},
   "outputs": [
    {
     "data": {
      "image/png": "[encoded data removed]",
      "text/plain": [
       "<matplotlib.figure.Figure at 0x10aecfc90>"
      ]
     },
     "metadata": {},
     "output_type": "display_data"
    }
   ],
   "source": [
    "original_train_loss = original_hist.history['loss']\n",
    "bigger_model_train_loss = bigger_model_hist.history['loss']\n",
    "\n",
    "plt.plot(epochs, original_train_loss, 'b+', label='Original model')\n",
    "plt.plot(epochs, bigger_model_train_loss, 'bo', label = 'Bigger model')\n",
    "plt.xlabel('Epochs')\n",
    "plt.ylabel('Training loss')\n",
    "plt.legend()\n",
    "\n",
    "plt.show()"
   ]
  },
  {
   "cell_type": "markdown",
   "metadata": {},
   "source": [
    "training losss가 0에 굉장히 빠르게 가까워지는 것을 확인할 수 있다. 네트워크가 더 많은 capacity를 가지면, training data를 모델링 할 수 있으므로(train loss가 적으므로) 빠른 모델링이 가능하지만, 과도하게 적용되면 위와 같이 training loss와 validation loss가 크게 다르게 된다."
   ]
  },
  {
   "cell_type": "markdown",
   "metadata": {},
   "source": [
    "## Adding weight regularization\n",
    "\n",
    "overfitting을 완화하는 일반적인 방법은 가중치(cost가 작은 값을 가지도록 만들어서 네트워크의 complexity 에 제한점을 두는 것(to put constraints)이다. 이렇게 하면 가중치값의 분포를 조금 더 regular, 즉 정규화할수 있다. 이러한 방식을 가중치 정규화라 한다.\n",
    "- L1 regularization : 여기서 추가된 cost는 가중치 상관계수의 절대값에 비례한다.\n",
    "- L2 regularization : 여기서 추가된 cost는 가중치의 상관계수의 제곱에 피례한다.  (예를 들어 가중치의 L2 norm 이라고 불린다.) L2 정규화는 신경 네트워크의 맥락에서(in the context of neural networks), 체중 감량(weight decay)라고도 한다."
   ]
  },
  {
   "cell_type": "markdown",
   "metadata": {},
   "source": [
    "## 여기서는..\n",
    "L2 regularization을 사용"
   ]
  },
  {
   "cell_type": "code",
   "execution_count": 60,
   "metadata": {},
   "outputs": [],
   "source": [
    "from keras import regularizers\n",
    "\n",
    "l2_model = models.Sequential()\n",
    "l2_model.add(layers.Dense(16, kernel_regularizer=regularizers.l2(0.001),\n",
    "                          activation='relu', input_shape=(10000,)))\n",
    "l2_model.add(layers.Dense(16, kernel_regularizer=regularizers.l2(0.001),\n",
    "                          activation='relu'))\n",
    "l2_model.add(layers.Dense(1, activation='sigmoid'))"
   ]
  },
  {
   "cell_type": "code",
   "execution_count": 61,
   "metadata": {},
   "outputs": [],
   "source": [
    "l2_model.compile(optimizer='rmsprop',\n",
    "                 loss='binary_crossentropy',\n",
    "                 metrics=['acc'])"
   ]
  },
  {
   "cell_type": "markdown",
   "metadata": {},
   "source": [
    "l2(0.001) means that every coefficient in the weight matrix of the layer will add 0.001 * weight_coefficient_value to the total loss of the network. Note that because this penalty is only added at training time, the loss for this network will be much higher at training than at test time."
   ]
  },
  {
   "cell_type": "markdown",
   "metadata": {},
   "source": [
    "## l2_model 적용\n",
    "네트워크의 사이즈는 12 이면서, 'relu'가 적용된 l2_model을 loss는 'binary_crossentropy'로 해서 컴파일한 것을 fitting한 후의 결과룰 표시해본다."
   ]
  },
  {
   "cell_type": "code",
   "execution_count": 62,
   "metadata": {},
   "outputs": [
    {
     "name": "stdout",
     "output_type": "stream",
     "text": [
      "Train on 25000 samples, validate on 25000 samples\n",
      "Epoch 1/20\n",
      "25000/25000 [==============================] - 15s 593us/step - loss: 0.4969 - acc: 0.8175 - val_loss: 0.3893 - val_acc: 0.8726\n",
      "Epoch 2/20\n",
      "25000/25000 [==============================] - 12s 499us/step - loss: 0.3182 - acc: 0.9036 - val_loss: 0.3337 - val_acc: 0.8898\n",
      "Epoch 3/20\n",
      "25000/25000 [==============================] - 10s 406us/step - loss: 0.2744 - acc: 0.9182 - val_loss: 0.3295 - val_acc: 0.8882\n",
      "Epoch 4/20\n",
      "25000/25000 [==============================] - 8s 312us/step - loss: 0.2523 - acc: 0.9271 - val_loss: 0.3517 - val_acc: 0.8772\n",
      "Epoch 5/20\n",
      "25000/25000 [==============================] - 11s 438us/step - loss: 0.2369 - acc: 0.9339 - val_loss: 0.3368 - val_acc: 0.8852\n",
      "Epoch 6/20\n",
      "25000/25000 [==============================] - 8s 338us/step - loss: 0.2278 - acc: 0.9367 - val_loss: 0.3670 - val_acc: 0.8732\n",
      "Epoch 7/20\n",
      "25000/25000 [==============================] - 10s 411us/step - loss: 0.2194 - acc: 0.9404 - val_loss: 0.3572 - val_acc: 0.8795\n",
      "Epoch 8/20\n",
      "25000/25000 [==============================] - 9s 359us/step - loss: 0.2167 - acc: 0.9399 - val_loss: 0.3619 - val_acc: 0.8780\n",
      "Epoch 9/20\n",
      "25000/25000 [==============================] - 11s 456us/step - loss: 0.2095 - acc: 0.9435 - val_loss: 0.3686 - val_acc: 0.8764\n",
      "Epoch 10/20\n",
      "25000/25000 [==============================] - 9s 370us/step - loss: 0.2069 - acc: 0.9448 - val_loss: 0.3853 - val_acc: 0.8718\n",
      "Epoch 11/20\n",
      "25000/25000 [==============================] - 9s 357us/step - loss: 0.2049 - acc: 0.9443 - val_loss: 0.3795 - val_acc: 0.8752\n",
      "Epoch 12/20\n",
      "25000/25000 [==============================] - 9s 353us/step - loss: 0.2024 - acc: 0.9451 - val_loss: 0.3883 - val_acc: 0.8731\n",
      "Epoch 13/20\n",
      "25000/25000 [==============================] - 6s 247us/step - loss: 0.1963 - acc: 0.9491 - val_loss: 0.3895 - val_acc: 0.8733\n",
      "Epoch 14/20\n",
      "25000/25000 [==============================] - 6s 257us/step - loss: 0.1941 - acc: 0.9496 - val_loss: 0.5069 - val_acc: 0.8377\n",
      "Epoch 15/20\n",
      "25000/25000 [==============================] - 6s 244us/step - loss: 0.1927 - acc: 0.9498 - val_loss: 0.3990 - val_acc: 0.8707\n",
      "Epoch 16/20\n",
      "25000/25000 [==============================] - 6s 256us/step - loss: 0.1916 - acc: 0.9499 - val_loss: 0.4646 - val_acc: 0.8524\n",
      "Epoch 17/20\n",
      "25000/25000 [==============================] - 7s 272us/step - loss: 0.1904 - acc: 0.9500 - val_loss: 0.4083 - val_acc: 0.8697\n",
      "Epoch 18/20\n",
      "25000/25000 [==============================] - 8s 304us/step - loss: 0.1819 - acc: 0.9547 - val_loss: 0.4408 - val_acc: 0.8613\n",
      "Epoch 19/20\n",
      "25000/25000 [==============================] - 10s 396us/step - loss: 0.1862 - acc: 0.9502 - val_loss: 0.4167 - val_acc: 0.8680\n",
      "Epoch 20/20\n",
      "25000/25000 [==============================] - 9s 341us/step - loss: 0.1793 - acc: 0.9559 - val_loss: 0.4349 - val_acc: 0.8635\n"
     ]
    }
   ],
   "source": [
    "l2_model_hist = l2_model.fit(x_train, y_train,\n",
    "                             epochs=20,\n",
    "                             batch_size=512,\n",
    "                             validation_data=(x_test, y_test))"
   ]
  },
  {
   "cell_type": "code",
   "execution_count": 63,
   "metadata": {},
   "outputs": [
    {
     "data": {
      "image/png": "[encoded data removed]",
      "text/plain": [
       "<matplotlib.figure.Figure at 0x1240c1d10>"
      ]
     },
     "metadata": {},
     "output_type": "display_data"
    }
   ],
   "source": [
    "l2_model_val_loss = l2_model_hist.history['val_loss']\n",
    "\n",
    "plt.plot(epochs, original_val_loss, 'b+', label='Original model')\n",
    "plt.plot(epochs, l2_model_val_loss, 'bo', label='L2-regularized model')\n",
    "plt.xlabel('Epochs')\n",
    "plt.ylabel('Validation loss')\n",
    "plt.legend()\n",
    "\n",
    "plt.show()\n"
   ]
  },
  {
   "cell_type": "markdown",
   "metadata": {},
   "source": [
    "자세히 보면 +와 o이 만나는 지점이 조금더 먼 지점에서 교차하게 되는 것을 확인 가능하다. 위와 같은 L2 regularization외에도 L1 regularization의 예제는 아래와 같다."
   ]
  },
  {
   "cell_type": "code",
   "execution_count": 67,
   "metadata": {},
   "outputs": [
    {
     "data": {
      "text/plain": [
       "<keras.regularizers.L1L2 at 0x10ae80ed0>"
      ]
     },
     "execution_count": 67,
     "metadata": {},
     "output_type": "execute_result"
    }
   ],
   "source": [
    "from keras import regularizers\n",
    "\n",
    "# L1 regularization\n",
    "regularizers.l1(0.001)\n",
    "\n",
    "\n",
    "# L1 and L2 regularization at the same time\n",
    "regularizers.l1_l2(l1=0.001, l2=0.001)"
   ]
  },
  {
   "cell_type": "markdown",
   "metadata": {},
   "source": [
    "## DROP OUT 은 포기..."
   ]
  }
 ],
 "metadata": {
  "kernelspec": {
   "display_name": "Python 2",
   "language": "python",
   "name": "python2"
  },
  "language_info": {
   "codemirror_mode": {
    "name": "ipython",
    "version": 2
   },
   "file_extension": ".py",
   "mimetype": "text/x-python",
   "name": "python",
   "nbconvert_exporter": "python",
   "pygments_lexer": "ipython2",
   "version": "2.7.13"
  }
 },
 "nbformat": 4,
 "nbformat_minor": 2
}

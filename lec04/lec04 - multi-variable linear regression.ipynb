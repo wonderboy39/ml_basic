{
 "cells": [
  {
   "cell_type": "markdown",
   "metadata": {},
   "source": [
    "# multi-variable linear regression"
   ]
  },
  {
   "cell_type": "markdown",
   "metadata": {},
   "source": [
    "# RECAP"
   ]
  },
  {
   "cell_type": "markdown",
   "metadata": {},
   "source": [
    "![gradient-descent](../img/tf-gradient-descent-RECAP.png)"
   ]
  },
  {
   "cell_type": "markdown",
   "metadata": {},
   "source": [
    "- **HYPOTHESIS**  \n",
    " 가설 (H(x)...)   \n",
    " : H(x) = Wx + b\n",
    " \n",
    "- **Cost function**\n",
    " cost/loss function  \n",
    " : cost(W,b) = 1/m * SUM{((H(x) - y(x))^2}를 통해 구했다.  \n",
    " : w,b에 따라 달라지는 함수 : cost(W,b) = .....  \n",
    "   \n",
    "- **Gradient descent algorithm**  \n",
    " 미분값이 0인 지점을 찾고, 기울기가 0보다 큰 지점에서는 -1을 곱해 경사를 줄이고, 기울기가 0보다 작은 지점에서도 -1을 곱해 완곡점에 도달하도록 유도하여 풀어낸다.\n",
    "\n",
    "\n"
   ]
  },
  {
   "cell_type": "markdown",
   "metadata": {},
   "source": [
    "## Predicting exam score: regression using one input(x)  \n",
    " : one-variable, one-function  \n",
    " : 이전 강의까지 해오던 것은 input이 한개였다.\n",
    " ![single variable](../img/tf_gradient_descent_recap2.png)  \n"
   ]
  },
  {
   "cell_type": "markdown",
   "metadata": {},
   "source": [
    "## input 이 여러개일 경우, 즉, 변수가 여러개일 경우의 연산"
   ]
  },
  {
   "cell_type": "markdown",
   "metadata": {},
   "source": [
    "![asdf](../img/tf_multi_01.png)"
   ]
  },
  {
   "cell_type": "markdown",
   "metadata": {},
   "source": [
    "## Cost function\n",
    "H(x1, x2, x3) = w1x1 + w2x2 + w3x3 + b  \n",
    "cost(W,b) = 1/m * SUM{ (H(x1, x2, x3) - y)^2 }  \n"
   ]
  },
  {
   "cell_type": "markdown",
   "metadata": {},
   "source": [
    "![cost function](../img/cost_function2.png)"
   ]
  },
  {
   "cell_type": "markdown",
   "metadata": {},
   "source": [
    "항이 여러개인 경우 아래와 같이 표현 가능하다.\n",
    "![costfunction 2](../img/cost_function_.png)"
   ]
  },
  {
   "cell_type": "markdown",
   "metadata": {},
   "source": [
    "하지만 항이 1000개, 10000개, 억 단위로 늘어날 경우는??\n",
    "행렬로 풀게 된다."
   ]
  },
  {
   "cell_type": "markdown",
   "metadata": {},
   "source": [
    "![hypothesis using matrix](../img/hypothesis_using_matrix.png)"
   ]
  },
  {
   "cell_type": "markdown",
   "metadata": {},
   "source": [
    "![hypothesis using matrix](../img/Hypothesis_using_matrix.png)\n"
   ]
  },
  {
   "cell_type": "markdown",
   "metadata": {},
   "source": [
    "보통 matrix에서는 x를 뒤에 쓰는 것이 아닌 x를 앞에 쓰는 것이 흔하다."
   ]
  },
  {
   "cell_type": "markdown",
   "metadata": {},
   "source": [
    "![Hypothesis using matrix](../img/hypothesis_using_matrix.png)"
   ]
  },
  {
   "cell_type": "markdown",
   "metadata": {},
   "source": [
    "## Hypothesis 를 matrix를 이용하면...\n",
    "![hypothesis](../img/hypothesis_using_matrix_2.png)"
   ]
  },
  {
   "cell_type": "markdown",
   "metadata": {},
   "source": [
    "![sdf](../img/hypothesis_matrix2.png)"
   ]
  },
  {
   "cell_type": "markdown",
   "metadata": {},
   "source": [
    "# W구하기\n",
    "  \n",
    "![ㄴㅇㄹ](../img/hypothesis_matrix_3.png)"
   ]
  },
  {
   "cell_type": "markdown",
   "metadata": {},
   "source": [
    "이론공부인 Lec에서는 주로 수학 표기식과 비슷한 형태로 표현하고   \n",
    "실습공부인 Lab에서는 H(x) = XW로 표현할 예정이다.  "
   ]
  },
  {
   "cell_type": "markdown",
   "metadata": {},
   "source": [
    "![asdf](../img/multi_variable_example.png)"
   ]
  },
  {
   "cell_type": "code",
   "execution_count": 31,
   "metadata": {},
   "outputs": [
    {
     "name": "stdout",
     "output_type": "stream",
     "text": [
      "cost_function2.png\r\n",
      "cost_function_.png\r\n",
      "hypothesis_matrix2.png\r\n",
      "hypothesis_matrix_3.png\r\n",
      "hypothesis_using_matrix.png\r\n",
      "hypothesis_using_matrix_2.png\r\n",
      "multi_variable_example.png\r\n",
      "tf-gradient-descent-RECAP.png\r\n",
      "tf_gradient_descent.png\r\n",
      "tf_gradient_descent_Hx.png\r\n",
      "tf_gradient_descent_recap2.png\r\n",
      "tf_multi_01.png\r\n",
      "스크린샷 2017-11-04 오후 2.59.47.png\r\n",
      "스크린샷 2017-11-04 오후 8.08.03.png\r\n"
     ]
    }
   ],
   "source": [
    "!ls ../img"
   ]
  }
 ],
 "metadata": {
  "kernelspec": {
   "display_name": "Python 2",
   "language": "python",
   "name": "python2"
  },
  "language_info": {
   "codemirror_mode": {
    "name": "ipython",
    "version": 2
   },
   "file_extension": ".py",
   "mimetype": "text/x-python",
   "name": "python",
   "nbconvert_exporter": "python",
   "pygments_lexer": "ipython2",
   "version": "2.7.13"
  }
 },
 "nbformat": 4,
 "nbformat_minor": 2
}

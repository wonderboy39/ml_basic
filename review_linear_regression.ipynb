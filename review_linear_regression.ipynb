{
 "cells": [
  {
   "cell_type": "markdown",
   "metadata": {},
   "source": [
    "# review : linear regression 총정리"
   ]
  },
  {
   "cell_type": "markdown",
   "metadata": {},
   "source": [
    "# regression의 의미\n",
    "- **Hypothesis:**  \n",
    "- **Cost:**  \n",
    "- **Gradient decent:** learning_rate? a?  \n",
    "cost function에 곱하는 a(alpha)의 의미는 **learning_rate**를 의미한다. **learning_rate**는 미분을 한번의 step에서 어느정도를 더 다가갈지를 의미한다.  \n",
    "![learning_rate](./img/lec5_1/linear_regression_learning_rate.png)\n"
   ]
  },
  {
   "cell_type": "markdown",
   "metadata": {},
   "source": [
    "## Regression vs Classification\n",
    "regression이 단순히 수치를 예측하는 것이라면 Classification은 경우의 수를 예측한다. 예를 들면 메일이 스팸일지 햄(필요한 메일)일지 판단한다. facebook의 경우는 classifcation알고리즘으로 사용자가 좋아요 를 누른 것들(데이터)을 토대로 어떠한 것들을 좋아하는지 학습하고 이를 토대로 어떠한 것들을 사용자에게 노출시킬지 판단하게 된다.  \n",
    "  \n",
    " - **Spam Detection**  \n",
    " : Spam or Ham  \n",
    " - **Facebook feed**  \n",
    " : show or hide  \n",
    " - **Credit Card Fraudulent Transaction detection**  \n",
    " : legitimate/fraud  \n",
    "   "
   ]
  }
 ],
 "metadata": {
  "kernelspec": {
   "display_name": "Python 2",
   "language": "python",
   "name": "python2"
  },
  "language_info": {
   "codemirror_mode": {
    "name": "ipython",
    "version": 2
   },
   "file_extension": ".py",
   "mimetype": "text/x-python",
   "name": "python",
   "nbconvert_exporter": "python",
   "pygments_lexer": "ipython2",
   "version": "2.7.13"
  }
 },
 "nbformat": 4,
 "nbformat_minor": 2
}

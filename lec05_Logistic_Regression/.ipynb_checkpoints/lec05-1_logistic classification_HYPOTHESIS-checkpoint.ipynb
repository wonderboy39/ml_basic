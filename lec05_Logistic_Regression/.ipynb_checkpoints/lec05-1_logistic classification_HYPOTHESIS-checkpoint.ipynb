{
 "cells": [
  {
   "cell_type": "markdown",
   "metadata": {},
   "source": [
    "# lec05 : logistic classification"
   ]
  },
  {
   "cell_type": "markdown",
   "metadata": {},
   "source": [
    "# review : regression의 의미\n",
    "- **Hypothesis:**  \n",
    "- **Cost:**  \n",
    "- **Gradient decent:** learning_rate? a?  \n",
    "cost function에 곱하는 a(alpha)의 의미는 **learning_rate**를 의미한다. **learning_rate**는 미분을 한번의 step에서 어느정도를 더 다가갈지를 의미한다.  \n",
    "![learning_rate](../img/lec5_1/linear_regression_learning_rate.png)\n"
   ]
  },
  {
   "cell_type": "markdown",
   "metadata": {},
   "source": [
    "## Classification\n",
    "  \n",
    "## Regression vs Classification\n",
    "regression이 단순히 수치를 예측하는 것이라면 Classification은 경우의 수를 예측한다. 예를 들면 메일이 스팸일지 햄(필요한 메일)일지 판단한다. facebook의 경우는 classifcation알고리즘으로 사용자가 좋아요 를 누른 것들(데이터)을 토대로 어떠한 것들을 좋아하는지 학습하고 이를 토대로 어떠한 것들을 사용자에게 노출시킬지 판단하게 된다.  \n",
    "  \n",
    " - **Spam Detection**  \n",
    " : Spam or Ham  \n",
    "  \n",
    " - **Facebook feed**  \n",
    " : show or hide  \n",
    "  \n",
    " - **Credit Card Fraudulent Transaction detection**  \n",
    " : legitimate/fraud  \n",
    "  \n",
    "![Classification](../img/lec5_1/classification_cases.png)  \n",
    "  \n"
   ]
  },
  {
   "cell_type": "markdown",
   "metadata": {},
   "source": [
    "# 0, 1 encoding\n",
    "기계적으로 학습을 할 때는 프로그래밍으로 학습시켜야 하기 때문에 'Spam' or 'Ham' 같은 label로 처리하는 것이 아니라  \n",
    " - 0일때는 Spam\n",
    " - 1일때는 Ham\n",
    "으로 분류하는 방식으로 구분한다.  \n",
    "\n",
    "- **Spam Dectection ? **  \n",
    "  : Spam(1) or Ham(0)  \n",
    "    \n",
    "- **Facebook feed ? **    \n",
    "  : show(1) or hide(0)  \n",
    "    \n",
    "- **Credit Card Fraudulent Transaction detection ? **  \n",
    "  : legitimate(1) or fraud(0)  \n",
    "    \n",
    "![0,1 Encoding](../img/lec5_1/classification_cases.png)\n",
    "  \n",
    "  \n",
    "\n"
   ]
  },
  {
   "cell_type": "markdown",
   "metadata": {},
   "source": [
    "# Classification이 사용되는 사례\n",
    "ex) Finance : 주식거래시 이 주식을 살지(0,true), 팔지(1, false)를 결정할 때  \n",
    "![finance](../img/lec5_1/case_of_logistic_classification.png)\n",
    "\n"
   ]
  },
  {
   "cell_type": "markdown",
   "metadata": {},
   "source": [
    "# PASS / FAIL 유도..., 문제 풀이 컨셉\n",
    "Pass(1) / Fail(0) based on study hours  \n",
    "공부한 시간에 근거해서 Pass/Fail을 판정하는 것은 아래의 그림처럼 판단할 수 있을거라는 가정에 도달할 수 있다.  \n",
    "![pass fail](../img/lec5_1/pass_fail_based_on_hours.png)  \n",
    "  \n",
    "자세히 보면 linear regression과 닮아 있다는 것을 알 수 있다.  \n",
    "![linear regression](../img/lec5_1/linear_regression_logistic_regression.png)  \n",
    "  \n",
    "하지만 자세히 보면 x축인 hours가 기준선에 도달하지 못해서 FAIL처리를 받더라도 실제 데이터는 PASS인 상태가 도출될 수 있는 경우도 확인할 수 있다. 이런 문제점으로 인해 아래의 특징을 이용해 Hypothesis를 세우게 된다.  \n",
    "![linear regression..?](../img/lec5_1/linear_regression_hypothesis_concept.png)  \n",
    "이러한 점에 착안해서 인공지능 과학자들, 정확히는 머신러닝 학자들이 H(x) = Wx+b를 0~1사이의 값으로 가지는 특정한 함수가 있는지 찾아보게 된다. \n",
    "![logistic_hypothesi](../img/lec5_1/logistic_hypothesis_0_1.png)\n"
   ]
  }
 ],
 "metadata": {
  "kernelspec": {
   "display_name": "Python 2",
   "language": "python",
   "name": "python2"
  },
  "language_info": {
   "codemirror_mode": {
    "name": "ipython",
    "version": 2
   },
   "file_extension": ".py",
   "mimetype": "text/x-python",
   "name": "python",
   "nbconvert_exporter": "python",
   "pygments_lexer": "ipython2",
   "version": "2.7.13"
  }
 },
 "nbformat": 4,
 "nbformat_minor": 2
}

{
 "cells": [
  {
   "cell_type": "markdown",
   "metadata": {},
   "source": [
    "# Numpy 배열 연습, python 키워드 인자, \\*args, \\*\\*kwargs 정리"
   ]
  },
  {
   "cell_type": "markdown",
   "metadata": {},
   "source": [
    "예제) 3x4 배열"
   ]
  },
  {
   "cell_type": "code",
   "execution_count": 3,
   "metadata": {},
   "outputs": [
    {
     "data": {
      "text/plain": [
       "array([[ 1,  2,  3,  4],\n",
       "       [ 5,  6,  7,  8],\n",
       "       [ 9, 10, 11, 12]])"
      ]
     },
     "execution_count": 3,
     "metadata": {},
     "output_type": "execute_result"
    }
   ],
   "source": [
    "import numpy as np\n",
    "arr_test = np.array([[1,2,3,4],[5,6,7,8],[9,10,11,12]])\n",
    "arr_test"
   ]
  },
  {
   "cell_type": "markdown",
   "metadata": {},
   "source": [
    "인덱스 지정"
   ]
  },
  {
   "cell_type": "code",
   "execution_count": 6,
   "metadata": {},
   "outputs": [
    {
     "data": {
      "text/plain": [
       "array([ 2,  6, 10])"
      ]
     },
     "execution_count": 6,
     "metadata": {},
     "output_type": "execute_result"
    }
   ],
   "source": [
    "# 모든 행의 첫번째 요소를 가져오기\n",
    "arr_test[:,1]"
   ]
  },
  {
   "cell_type": "markdown",
   "metadata": {},
   "source": [
    "exclusive 지정"
   ]
  },
  {
   "cell_type": "code",
   "execution_count": 9,
   "metadata": {},
   "outputs": [
    {
     "data": {
      "text/plain": [
       "array([[ 1,  2],\n",
       "       [ 5,  6],\n",
       "       [ 9, 10]])"
      ]
     },
     "execution_count": 9,
     "metadata": {},
     "output_type": "execute_result"
    }
   ],
   "source": [
    "# 모든 행의 두번째 까지의 요소를 가져오기 (exclusive)\n",
    "arr_test[:, :2]"
   ]
  },
  {
   "cell_type": "code",
   "execution_count": 10,
   "metadata": {},
   "outputs": [
    {
     "data": {
      "text/plain": [
       "array([[1],\n",
       "       [5],\n",
       "       [9]])"
      ]
     },
     "execution_count": 10,
     "metadata": {},
     "output_type": "execute_result"
    }
   ],
   "source": [
    "# 모든 행의 첫번째 까지의 요소를 가져오기 (exclusive)\n",
    "arr_test[:, :1]"
   ]
  },
  {
   "cell_type": "code",
   "execution_count": 11,
   "metadata": {
    "scrolled": true
   },
   "outputs": [
    {
     "data": {
      "text/plain": [
       "array([[1, 2, 3, 4],\n",
       "       [5, 6, 7, 8]])"
      ]
     },
     "execution_count": 11,
     "metadata": {},
     "output_type": "execute_result"
    }
   ],
   "source": [
    "# 두번째 행까지의 모든 부분 행렬의 모든 요소를 가져오기\n",
    "arr_test[:2, :]"
   ]
  },
  {
   "cell_type": "markdown",
   "metadata": {},
   "source": [
    ":은 ...으로 바꿔서 쓸수 있다. 둘은 같은 표현이고, 편한것으로 사용한다. 보통은 :를 많이 사용하는 듯 하다."
   ]
  },
  {
   "cell_type": "code",
   "execution_count": 13,
   "metadata": {},
   "outputs": [
    {
     "data": {
      "text/plain": [
       "array([ 9, 10, 11, 12])"
      ]
     },
     "execution_count": 13,
     "metadata": {},
     "output_type": "execute_result"
    }
   ],
   "source": [
    "# 끝에서 첫번째 행의 모든 요소를 ...를 이용해 출력하기\n",
    "arr_test[-1, ...]"
   ]
  },
  {
   "cell_type": "code",
   "execution_count": 14,
   "metadata": {},
   "outputs": [
    {
     "data": {
      "text/plain": [
       "array([ 9, 10, 11, 12])"
      ]
     },
     "execution_count": 14,
     "metadata": {},
     "output_type": "execute_result"
    }
   ],
   "source": [
    "# 끝에서 첫번째 행의 모든 요소를 :을 이용해 출력하기\n",
    "arr_test[-1, :]"
   ]
  },
  {
   "cell_type": "code",
   "execution_count": 15,
   "metadata": {},
   "outputs": [
    {
     "data": {
      "text/plain": [
       "array([[1, 2, 3, 4],\n",
       "       [5, 6, 7, 8]])"
      ]
     },
     "execution_count": 15,
     "metadata": {},
     "output_type": "execute_result"
    }
   ],
   "source": [
    "# 두번째 행까지 부분배열의 모든 요소들을 출력하기\n",
    "arr_test[0:2, :]"
   ]
  },
  {
   "cell_type": "code",
   "execution_count": 17,
   "metadata": {},
   "outputs": [
    {
     "data": {
      "text/plain": [
       "array([[ 5,  6,  7,  8],\n",
       "       [ 9, 10, 11, 12]])"
      ]
     },
     "execution_count": 17,
     "metadata": {},
     "output_type": "execute_result"
    }
   ],
   "source": [
    "# 두번째 행에서 세번째행의 부분배열의 모든 요소들을 출력하기\n",
    "arr_test[1:3, :]"
   ]
  },
  {
   "cell_type": "markdown",
   "metadata": {},
   "source": [
    "python의 키워드 인자... 복습  \n",
    "http://studymake.tistory.com/215"
   ]
  },
  {
   "cell_type": "code",
   "execution_count": 25,
   "metadata": {
    "scrolled": true
   },
   "outputs": [
    {
     "name": "stdout",
     "output_type": "stream",
     "text": [
      "name jung\n"
     ]
    }
   ],
   "source": [
    "def dict_test():\n",
    "    return 'name', 'jung'\n",
    "\n",
    "key, val = dict_test()\n",
    "print key, val\n",
    "#print(key, val)"
   ]
  },
  {
   "cell_type": "code",
   "execution_count": 27,
   "metadata": {},
   "outputs": [
    {
     "name": "stdout",
     "output_type": "stream",
     "text": [
      "soon gu 100 20 39\n",
      "soon young 20 20 20\n"
     ]
    }
   ],
   "source": [
    "def test(name, kor=0, math=0, eng=0):\n",
    "    print name, kor, math, eng\n",
    "    \n",
    "test('soon gu', 100, 20, 39)\n",
    "test('soon young', 20, 20, 20)"
   ]
  },
  {
   "cell_type": "markdown",
   "metadata": {},
   "source": [
    "python의 \\*args, \\*\\*kwargs\n",
    " - **\\*args **  \n",
    "  : 파라미터를 몇개 받을지 모르는 경우 사용한다. args는 튜플 형태로 전달된다.  \n",
    " - **\\*\\*kwargs**  \n",
    "  **: 파라미터 이름을 지정해서 보낼 수 있다. kwargs는 딕셔너리로 전달된다.**"
   ]
  },
  {
   "cell_type": "code",
   "execution_count": 31,
   "metadata": {},
   "outputs": [
    {
     "name": "stdout",
     "output_type": "stream",
     "text": [
      "('a', 'b', 'c', 'd', 'e')\n",
      "a\n",
      "b\n",
      "c\n",
      "d\n",
      "e\n",
      "None\n"
     ]
    }
   ],
   "source": [
    "def print_param(*args):\n",
    "    print args\n",
    "    for v in args:\n",
    "        print v\n",
    "\n",
    "print print_param('a','b','c','d','e')"
   ]
  },
  {
   "cell_type": "code",
   "execution_count": 2,
   "metadata": {
    "scrolled": true
   },
   "outputs": [
    {
     "name": "stdout",
     "output_type": "stream",
     "text": [
      "{'job': 'programmer', 'name': 'jung', 'address': 'Korea'}\n",
      "\n",
      "        ===================================\n",
      "           Printing Keyword Argument\n",
      "        =================================== \n",
      "        \n",
      "**kwargs ...\n",
      "{'job': 'programmer', 'name': 'jung', 'address': 'Korea'}\n",
      "\n",
      "keys... \n",
      "['job', 'name', 'address']\n",
      "\n",
      "values... \n",
      "['programmer', 'jung', 'Korea']\n",
      "\n"
     ]
    }
   ],
   "source": [
    "def print_params2(**kwargs):\n",
    "    print \"**kwargs ...\"\n",
    "    print kwargs\n",
    "    print \"\"\n",
    "    \n",
    "    print \"keys... \"\n",
    "    print kwargs.keys()\n",
    "    print \"\"\n",
    "    \n",
    "    print \"values... \"\n",
    "    print kwargs.values()\n",
    "    print \"\"\n",
    "\n",
    "print({'name':'jung', 'address':'Korea', 'job': 'programmer'})\n",
    "dict_sample = {'name':'jung', 'address':'Korea', 'job': 'programmer'}\n",
    "\n",
    "# TypeError: print_params2() takes exactly 0 arguments (1 given)\n",
    "# print_params2(dict_sample)\n",
    "\n",
    "\n",
    "print   \"\"\"\n",
    "        ===================================\n",
    "           Printing Keyword Argument\n",
    "        =================================== \n",
    "        \"\"\"\n",
    "print_params2(name='jung', job='programmer', address = 'Korea')"
   ]
  },
  {
   "cell_type": "code",
   "execution_count": 50,
   "metadata": {},
   "outputs": [
    {
     "name": "stdout",
     "output_type": "stream",
     "text": [
      "\n",
      "        ===============================================\n",
      "           Printing Keyword Argument using dictionary\n",
      "        =============================================== \n",
      "        \n",
      "**kwargs ...\n",
      "{'job': 'programmer', 'name': 'jung', 'address': 'Korea'}\n",
      "\n",
      "keys... \n",
      "['job', 'name', 'address']\n",
      "\n",
      "values... \n",
      "['programmer', 'jung', 'Korea']\n",
      "\n"
     ]
    }
   ],
   "source": [
    "# 딕셔너리를 선언해서 사용해보기\n",
    "print   \"\"\"\n",
    "        ===============================================\n",
    "           Printing Keyword Argument using dictionary\n",
    "        =============================================== \n",
    "        \"\"\"\n",
    "dict_sample = {'name':'jung', 'address':'Korea', 'job': 'programmer'}\n",
    "print_params2(**dict_sample)"
   ]
  }
 ],
 "metadata": {
  "kernelspec": {
   "display_name": "Python 2",
   "language": "python",
   "name": "python2"
  },
  "language_info": {
   "codemirror_mode": {
    "name": "ipython",
    "version": 2
   },
   "file_extension": ".py",
   "mimetype": "text/x-python",
   "name": "python",
   "nbconvert_exporter": "python",
   "pygments_lexer": "ipython2",
   "version": "2.7.13"
  }
 },
 "nbformat": 4,
 "nbformat_minor": 2
}

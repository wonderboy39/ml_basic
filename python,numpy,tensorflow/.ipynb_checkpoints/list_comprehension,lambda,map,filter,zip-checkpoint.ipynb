{
 "cells": [
  {
   "cell_type": "markdown",
   "metadata": {},
   "source": [
    "# list comprehension, lambda, map, filter, zip"
   ]
  },
  {
   "cell_type": "markdown",
   "metadata": {},
   "source": [
    "zip, reduce,"
   ]
  },
  {
   "cell_type": "markdown",
   "metadata": {},
   "source": [
    "# 간단한 예제\n",
    "공백이 있는 문자열이 있을때 공백을 제거하는 루틴을 작성해보고자 한다. 입력예제는 아래와 같다.\n",
    "```python\n",
    "l_country = [u'대 한 민 국', u'일 본', u'중 국']\n",
    "str_country = u'대 한 민 국, 일 본, 중 국'\n",
    "```"
   ]
  },
  {
   "cell_type": "markdown",
   "metadata": {},
   "source": [
    "## 먼저 list를 list comprehension으로 작성하는 예제.  \n",
    "정규표현식 모듈인 re를 사용하는 예제를 들었다. 이번 예제가 아니더라도 전화번호중 - 와 공백을 제거하는 등의 연산등에도 쉽게 사용할 수 있다.  \n"
   ]
  },
  {
   "cell_type": "code",
   "execution_count": 1,
   "metadata": {
    "collapsed": true
   },
   "outputs": [],
   "source": [
    "import re\n",
    "l_country = [u'대 한 민 국', u'일 본', u'중 국']\n",
    "str_country = u'대 한 민 국, 일 본, 중 국'"
   ]
  },
  {
   "cell_type": "markdown",
   "metadata": {},
   "source": [
    "### filter를 사용할 경우\n",
    "\n",
    "아래는 잘못된 예제...\n",
    "필터는 리스트에 들어있는 원소들을 함수에 적용시켜서 결과가 참인 값들로 새로운 리스트를 만들어준다.\n"
   ]
  },
  {
   "cell_type": "code",
   "execution_count": 2,
   "metadata": {
    "collapsed": true
   },
   "outputs": [],
   "source": [
    "filtered_list = filter(lambda x: re.sub('\\s',u'', x), l_country)"
   ]
  },
  {
   "cell_type": "code",
   "execution_count": 3,
   "metadata": {},
   "outputs": [
    {
     "name": "stdout",
     "output_type": "stream",
     "text": [
      "대 한 민 국\n",
      "일 본\n",
      "중 국\n"
     ]
    }
   ],
   "source": [
    "for f in filtered_list:\n",
    "    print f.encode('utf-8')"
   ]
  },
  {
   "cell_type": "code",
   "execution_count": 4,
   "metadata": {},
   "outputs": [
    {
     "name": "stdout",
     "output_type": "stream",
     "text": [
      "대 한 민 국\n",
      "일 본\n",
      "중 국\n"
     ]
    }
   ],
   "source": [
    "def remove_space_filter (x):\n",
    "    re.sub('\\s',u'',x)\n",
    "\n",
    "filtered_list2 = filter(remove_space_filter, l_country)\n",
    "for f in filtered_list:\n",
    "    print f.encode('utf-8')"
   ]
  },
  {
   "cell_type": "markdown",
   "metadata": {},
   "source": [
    "ex) https://wikidocs.net/64\n",
    "0부터 9까지의 리스트 중에서 5보다 작은 것들만 돌려주는 예제\n"
   ]
  },
  {
   "cell_type": "code",
   "execution_count": 5,
   "metadata": {},
   "outputs": [
    {
     "data": {
      "text/plain": [
       "[0, 1, 2, 3, 4]"
      ]
     },
     "execution_count": 5,
     "metadata": {},
     "output_type": "execute_result"
    }
   ],
   "source": [
    "filter(lambda x:x<5, range(10))"
   ]
  },
  {
   "cell_type": "code",
   "execution_count": 6,
   "metadata": {},
   "outputs": [
    {
     "data": {
      "text/plain": [
       "[0, 1, 2, 3, 4]"
      ]
     },
     "execution_count": 6,
     "metadata": {},
     "output_type": "execute_result"
    }
   ],
   "source": [
    "list(filter(lambda x:x<5, range(10)))"
   ]
  },
  {
   "cell_type": "markdown",
   "metadata": {},
   "source": [
    "### map을 사용할 경우"
   ]
  },
  {
   "cell_type": "code",
   "execution_count": 7,
   "metadata": {
    "collapsed": true
   },
   "outputs": [],
   "source": [
    "def remove_space (x):\n",
    "    return re.sub('\\s',u'',x)\n",
    "map_list = map(remove_space, str_country.split(','))"
   ]
  },
  {
   "cell_type": "code",
   "execution_count": 8,
   "metadata": {},
   "outputs": [
    {
     "name": "stdout",
     "output_type": "stream",
     "text": [
      "대한민국\n",
      "일본\n",
      "중국\n"
     ]
    }
   ],
   "source": [
    "for m in map_list:\n",
    "    print m.encode('utf-8')"
   ]
  },
  {
   "cell_type": "markdown",
   "metadata": {},
   "source": [
    "### map과 lambda를 함께 사용할 경우"
   ]
  },
  {
   "cell_type": "code",
   "execution_count": 9,
   "metadata": {
    "collapsed": true
   },
   "outputs": [],
   "source": [
    "lambda_map_list = map(remove_space, str_country.split(','))"
   ]
  },
  {
   "cell_type": "code",
   "execution_count": 10,
   "metadata": {},
   "outputs": [
    {
     "name": "stdout",
     "output_type": "stream",
     "text": [
      "대한민국\n",
      "일본\n",
      "중국\n"
     ]
    }
   ],
   "source": [
    "for m in lambda_map_list:\n",
    "    print m.encode('utf-8')"
   ]
  },
  {
   "cell_type": "markdown",
   "metadata": {},
   "source": [
    "# 개념정리\n",
    "1. lambda\n",
    "2. map\n",
    "3. filter\n",
    "4. reduce\n",
    "5. zip\n"
   ]
  },
  {
   "cell_type": "markdown",
   "metadata": {},
   "source": [
    "## lambda\n",
    "lambda는 피해야 하는 파이썬의 문법중 하나라고 귀도 반 로썸이 말한바가 있다. 예전 회사에서 파이썬을 주력언어로 사용했던 경험이 있는데.. 팀장님이 직접 사내 메신저에 개발관련 정보들을 메신저에 항상 올려주셨었다. 그중에 하나가 귀도 반 로썸이 언급한 내용과 실제 그 원문이 있는 url이었다. lambda를 사용할바에야 list comprehension을 사용하라는 골자의 내용이었다.  \n",
    "  \n",
    "하지만 정말 사용하면 편할때가 있다..ㅋㅋ 너무 복잡한식에 lambda를 사용할 경우에는 정말 변태같은 짓이긴하지만, 간단한 식에서는 사용할수 있다고 본다. 유도리있게 상황에 맞게끔 쓰는것이 중요하다고 본다. 모든 프로그래밍 언어의 기능을 만들때 의도한 바가 있을 것이고, 차마 제거하지 못한 이유도 있을 것이라도 본다.  "
   ]
  },
  {
   "cell_type": "code",
   "execution_count": 11,
   "metadata": {},
   "outputs": [
    {
     "data": {
      "text/plain": [
       "[1, 2, 3, 4, 5, 6, 7, 8, 9]"
      ]
     },
     "execution_count": 11,
     "metadata": {},
     "output_type": "execute_result"
    }
   ],
   "source": [
    "# ex 1) 오름차순 정렬\n",
    "mylist = [9,1,2,3,4,5,6,8,7]\n",
    "mylist.sort(key=lambda x:x)\n",
    "mylist"
   ]
  },
  {
   "cell_type": "code",
   "execution_count": 12,
   "metadata": {},
   "outputs": [
    {
     "data": {
      "text/plain": [
       "[9, 8, 7, 6, 5, 4, 3, 2, 1]"
      ]
     },
     "execution_count": 12,
     "metadata": {},
     "output_type": "execute_result"
    }
   ],
   "source": [
    "# ex 2) 내림차순 정렬\n",
    "mylist.sort(key=lambda x:-x)\n",
    "mylist"
   ]
  },
  {
   "cell_type": "code",
   "execution_count": 13,
   "metadata": {},
   "outputs": [
    {
     "data": {
      "text/plain": [
       "[-1, 1, 2, 2, 4, 5, -8]"
      ]
     },
     "execution_count": 13,
     "metadata": {},
     "output_type": "execute_result"
    }
   ],
   "source": [
    "# ex 3) 제곱수가 작은 순으로 정렬하고자 할 경우\n",
    "root = [-1,2,4,5,2,1,-8]\n",
    "root.sort(key=lambda x:x*x, reverse=False)\n",
    "root"
   ]
  },
  {
   "cell_type": "markdown",
   "metadata": {},
   "source": [
    "## map\n",
    "입력받은 리스트의 모든 항목들에 대해 입력받은 함수를 적용한다.  "
   ]
  },
  {
   "cell_type": "markdown",
   "metadata": {},
   "source": [
    "```python\n",
    "map (적용할 함수 이름, 리스트)\n",
    "```"
   ]
  },
  {
   "cell_type": "markdown",
   "metadata": {},
   "source": [
    "예1) 리스트의 모든 요소에 \\*100을 한 결과를 리턴하는 구문  \n",
    "**map을 사용하지 않을 경우의 for문(map()을 적용하고자 하는 for문)**"
   ]
  },
  {
   "cell_type": "code",
   "execution_count": 14,
   "metadata": {},
   "outputs": [
    {
     "data": {
      "text/plain": [
       "[500, 600, 700, 800, 900]"
      ]
     },
     "execution_count": 14,
     "metadata": {},
     "output_type": "execute_result"
    }
   ],
   "source": [
    "l_input = [5,6,7,8,9]\n",
    "product_100 = []\n",
    "for i in l_input:\n",
    "    product_100.append(i*100)\n",
    "product_100"
   ]
  },
  {
   "cell_type": "markdown",
   "metadata": {},
   "source": [
    "**위의 for loop를 map을 사용할 경우로 대치해보기**"
   ]
  },
  {
   "cell_type": "code",
   "execution_count": 15,
   "metadata": {},
   "outputs": [
    {
     "data": {
      "text/plain": [
       "[500, 600, 700, 800, 900]"
      ]
     },
     "execution_count": 15,
     "metadata": {},
     "output_type": "execute_result"
    }
   ],
   "source": [
    "l_input = [5,6,7,8,9]\n",
    "product_100_2 = map(lambda x: x*100, l_input)\n",
    "product_100_2"
   ]
  },
  {
   "cell_type": "markdown",
   "metadata": {},
   "source": [
    "**예2) 함수들의 리스트를 input으로 사용하는 구문**  \n",
    "- 자주 까먹는 부분!! 기억 좀 하자!!!!"
   ]
  },
  {
   "cell_type": "code",
   "execution_count": 16,
   "metadata": {
    "collapsed": true
   },
   "outputs": [],
   "source": [
    "def multiply(x):\n",
    "    return (x*x)\n",
    "\n",
    "def add(x):\n",
    "    return (x+x)\n",
    "\n",
    "def sub(x):\n",
    "    return (x-x)\n",
    "\n",
    "l_func = [multiply, add, sub]"
   ]
  },
  {
   "cell_type": "code",
   "execution_count": 17,
   "metadata": {},
   "outputs": [
    {
     "name": "stdout",
     "output_type": "stream",
     "text": [
      "[0, 0, 0]\n",
      "[1, 2, 0]\n",
      "[4, 4, 0]\n",
      "[9, 6, 0]\n",
      "[16, 8, 0]\n"
     ]
    }
   ],
   "source": [
    "for i in range(5):\n",
    "    l_value = map(lambda x:x(i), l_func)\n",
    "    print l_value"
   ]
  },
  {
   "cell_type": "markdown",
   "metadata": {},
   "source": [
    "## list comprehension\n",
    "[표현식 for 항목 in 순회가능한 객체 및 리스트 if 조건]\n",
    "(참고 : introducing python)"
   ]
  },
  {
   "cell_type": "code",
   "execution_count": 18,
   "metadata": {},
   "outputs": [
    {
     "data": {
      "text/plain": [
       "[1, 2, 3, 4, 5]"
      ]
     },
     "execution_count": 18,
     "metadata": {},
     "output_type": "execute_result"
    }
   ],
   "source": [
    "number_list = []\n",
    "for number in range(1,6):\n",
    "    number_list.append(number)\n",
    "\n",
    "number_list"
   ]
  },
  {
   "cell_type": "code",
   "execution_count": 21,
   "metadata": {},
   "outputs": [
    {
     "data": {
      "text/plain": [
       "[1, 2, 3, 4, 5]"
      ]
     },
     "execution_count": 21,
     "metadata": {},
     "output_type": "execute_result"
    }
   ],
   "source": [
    "# 위의 식을 리스트 컴프리헨션으로 바꿔보면\n",
    "number_list2 = [number for number in range(1,6)]\n",
    "number_list2"
   ]
  },
  {
   "cell_type": "code",
   "execution_count": 24,
   "metadata": {},
   "outputs": [
    {
     "data": {
      "text/plain": [
       "[2, 4]"
      ]
     },
     "execution_count": 24,
     "metadata": {},
     "output_type": "execute_result"
    }
   ],
   "source": [
    "a_list = [number for number in range(1,6) if number %2 == 0]\n",
    "a_list"
   ]
  },
  {
   "cell_type": "markdown",
   "metadata": {},
   "source": [
    "## filter\n",
    "입력받은 리스트의 모든 요소들을 인자로 전달받은 함수에 값을 넣었을때 True를 반환하는 요소들만으로 구성되는 리스트를 생성한다. filter함수는 아래와 같은 방식으로 사용한다.  "
   ]
  }
 ],
 "metadata": {
  "kernelspec": {
   "display_name": "Python 2",
   "language": "python",
   "name": "python2"
  },
  "language_info": {
   "codemirror_mode": {
    "name": "ipython",
    "version": 2
   },
   "file_extension": ".py",
   "mimetype": "text/x-python",
   "name": "python",
   "nbconvert_exporter": "python",
   "pygments_lexer": "ipython2",
   "version": "2.7.13"
  }
 },
 "nbformat": 4,
 "nbformat_minor": 2
}

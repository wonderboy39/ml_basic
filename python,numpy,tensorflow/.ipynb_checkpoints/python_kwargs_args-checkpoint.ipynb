{
 "cells": [
  {
   "cell_type": "markdown",
   "metadata": {},
   "source": [
    "# kwargs, args"
   ]
  },
  {
   "cell_type": "markdown",
   "metadata": {},
   "source": [
    "http://jhproject.tistory.com/109"
   ]
  },
  {
   "cell_type": "markdown",
   "metadata": {},
   "source": [
    "### python의 \\*args, \\*\\*args  \n",
    "- \\*args  \n",
    " : 파라미터를 몇개 받을지 모르는 경우 사용한다. args는 튜플 형태로 전달된다.  \n",
    "- \\*\\*kwargs  \n",
    " : 파라미터 이름을 지정해서 보낼 수 있다. kwargs는 딕셔너리로 전달된다.  "
   ]
  },
  {
   "cell_type": "code",
   "execution_count": 1,
   "metadata": {},
   "outputs": [
    {
     "name": "stdout",
     "output_type": "stream",
     "text": [
      "('a', 'b', 'c', 'd', 'e')\n",
      "a\n",
      "b\n",
      "c\n",
      "d\n",
      "e\n",
      "None\n"
     ]
    }
   ],
   "source": [
    "def print_param(*args):\n",
    "    print args\n",
    "    for v in args:\n",
    "        print v\n",
    "        \n",
    "print print_param('a','b','c','d','e')"
   ]
  },
  {
   "cell_type": "code",
   "execution_count": 2,
   "metadata": {},
   "outputs": [
    {
     "name": "stdout",
     "output_type": "stream",
     "text": [
      "{'job': 'programmer', 'name': 'jung', 'address': 'Korea'}\n",
      "\n",
      "        ===================================\n",
      "           Printing Keyword Argument\n",
      "        =================================== \n",
      "        \n",
      "**kwargs ...\n",
      "{'job': 'programmer', 'name': 'jung', 'address': 'Korea'}\n",
      "\n",
      "keys... \n",
      "['job', 'name', 'address']\n",
      "\n",
      "values... \n",
      "['programmer', 'jung', 'Korea']\n",
      "\n"
     ]
    }
   ],
   "source": [
    "def print_params2(**kwargs):\n",
    "    print \"**kwargs ...\"\n",
    "    print kwargs\n",
    "    print \"\"\n",
    "    \n",
    "    print \"keys... \"\n",
    "    print kwargs.keys()\n",
    "    print \"\"\n",
    "    \n",
    "    print \"values... \"\n",
    "    print kwargs.values()\n",
    "    print \"\"\n",
    "\n",
    "print({'name':'jung', 'address':'Korea', 'job': 'programmer'})\n",
    "dict_sample = {'name':'jung', 'address':'Korea', 'job': 'programmer'}\n",
    "\n",
    "# TypeError: print_params2() takes exactly 0 arguments (1 given)\n",
    "# print_params2(dict_sample)\n",
    "\n",
    "\n",
    "print   \"\"\"\n",
    "        ===================================\n",
    "           Printing Keyword Argument\n",
    "        =================================== \n",
    "        \"\"\"\n",
    "print_params2(name='jung', job='programmer', address = 'Korea')"
   ]
  },
  {
   "cell_type": "markdown",
   "metadata": {},
   "source": [
    "### 딕셔너리를 전달해 **kwargs를 사용하기\n",
    "딕셔너리를 함수의 \\*\\*kwargs 인자로 전달하기 위해서는 딕셔너리 전달시 딕셔너리 이름 앞에 \\*\\*를 붙여야 한다. 아무기호 없이, 딕셔너리를 인자로 받지 않는 함수에 딕셔너리를 전달할 경우 TypeError가 발생한다.  "
   ]
  },
  {
   "cell_type": "code",
   "execution_count": 3,
   "metadata": {},
   "outputs": [
    {
     "name": "stdout",
     "output_type": "stream",
     "text": [
      "\n",
      "        ===============================================\n",
      "           Printing Keyword Argument using dictionary\n",
      "        =============================================== \n",
      "        \n",
      "**kwargs ...\n",
      "{'job': 'programmer', 'name': 'jung', 'address': 'Korea'}\n",
      "\n",
      "keys... \n",
      "['job', 'name', 'address']\n",
      "\n",
      "values... \n",
      "['programmer', 'jung', 'Korea']\n",
      "\n"
     ]
    }
   ],
   "source": [
    "# 딕셔너리를 선언해서 사용해보기\n",
    "# 1) 아무 기호 없이 그냥 딕셔너리를 전달할 경우 에러를 낸다.  \n",
    "# TypeError: print_params2() takes exactly 0 arguments (1 given)\n",
    "# print_params2(dict_sample)\n",
    "\n",
    "# 2) 딕셔너리를 **kwargs로 전달하기\n",
    "print   \"\"\"\n",
    "        ===============================================\n",
    "           Printing Keyword Argument using dictionary\n",
    "        =============================================== \n",
    "        \"\"\"\n",
    "dict_sample = {'name':'jung', 'address':'Korea', 'job': 'programmer'}\n",
    "print_params2(**dict_sample)"
   ]
  }
 ],
 "metadata": {
  "kernelspec": {
   "display_name": "Python 2",
   "language": "python",
   "name": "python2"
  },
  "language_info": {
   "codemirror_mode": {
    "name": "ipython",
    "version": 2
   },
   "file_extension": ".py",
   "mimetype": "text/x-python",
   "name": "python",
   "nbconvert_exporter": "python",
   "pygments_lexer": "ipython2",
   "version": "2.7.13"
  }
 },
 "nbformat": 4,
 "nbformat_minor": 2
}

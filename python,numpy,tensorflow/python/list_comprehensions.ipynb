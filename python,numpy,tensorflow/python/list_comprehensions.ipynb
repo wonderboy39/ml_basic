{
 "cells": [
  {
   "cell_type": "markdown",
   "metadata": {},
   "source": [
    "## List Comprehension"
   ]
  },
  {
   "cell_type": "markdown",
   "metadata": {},
   "source": [
    "참고자료\n",
    "https://code.tutsplus.com/tutorials/list-comprehensions-in-python--cms-26836"
   ]
  },
  {
   "cell_type": "markdown",
   "metadata": {},
   "source": [
    "위의 참고 URL에 적힌 글을 적은  Monty Shokeen는 list comprehension에 대해서 유의할 점(keep in mind)을 아래와 같이 이야기합니다.\n",
    " - 모든 for 문을 list comprehension으로 작성할 수는 없다.\n",
    " - list comprehension이라는 용어가 마치 list에서만 동작하는 것 이라고 암시하는 듯 하지만 다른 어떠한 iterable에도 동작할 수 있다는 사실을 알아야 합니다.\n",
    "  "
   ]
  },
  {
   "cell_type": "markdown",
   "metadata": {},
   "source": [
    "## Loops and List Comprehension"
   ]
  },
  {
   "cell_type": "markdown",
   "metadata": {},
   "source": [
    "기본적인 list comprehension의 동작원리를 이해하려면 iterable과 그 안의 표현식을 이해하면 훨씬 편할 겁니다.\n",
    "\n",
    "먼저, 1~20까지의 숫자를 제곱한 결과를 리스트에 저장해 출력해보는 예제를 작성해보면 아래와 같습니다."
   ]
  },
  {
   "cell_type": "code",
   "execution_count": 2,
   "metadata": {},
   "outputs": [
    {
     "name": "stdout",
     "output_type": "stream",
     "text": [
      "[1, 4, 9, 16, 25, 36, 49, 64, 81, 100, 121, 144, 169, 196, 225, 256, 289, 324, 361, 400]\n"
     ]
    }
   ],
   "source": [
    "l_square = []\n",
    "for n in range(1,21):\n",
    "    l_square.append(n*n)\n",
    "\n",
    "print l_square"
   ]
  },
  {
   "cell_type": "markdown",
   "metadata": {},
   "source": [
    "그런데 이것을 list comprehension으로 작성해보면 아래와 같습니다."
   ]
  },
  {
   "cell_type": "code",
   "execution_count": 4,
   "metadata": {},
   "outputs": [
    {
     "name": "stdout",
     "output_type": "stream",
     "text": [
      "[1, 4, 9, 16, 25, 36, 49, 64, 81, 100, 121, 144, 169, 196, 225, 256, 289, 324, 361, 400]\n"
     ]
    }
   ],
   "source": [
    "l_square = [number*number for number in range(1,21)]\n",
    "print l_square"
   ]
  },
  {
   "cell_type": "markdown",
   "metadata": {},
   "source": [
    "list comprehension의 문법을 안다면 훨씬 가독성이 좋은 코드가 되었습니다.  \n",
    "list comprehension을 이해하기 위해서는 iterable이라는 개념을 이해하고, 이것이 리스트, 딕셔너리, 튜플등 순회가능한 객체인지를 구별할 수 있어야 합니다.  \n",
    "\n",
    "리스트 컴프리헨션은 이런 순회 가능한 여러개의 데이터를 묶음으로 가진 순회가능한 자료를 iterable로 취급하여 iterable 내부의 각 아이템(element)을 순회할 수 있도록 하는 것이 기본 컨셉입니다.\n",
    "\n",
    "```code\n",
    "[<expression with each item> for <each item> in <iterable>]\n",
    "```\n",
    "\n",
    "자세히 관찰해보면 리스트 컴프리헨션의 양 끝은 \\[,\\] 로 묶여있는 것을 확인가능합니다. 즉, <iterable>이 list일 경우 [ ] 을 반환한다는 것을 이해할 수 있을 것입니다. 만약 딕셔너리나, Set 구조라면 또 끝의 표현이 달라지겠죠?"
   ]
  },
  {
   "cell_type": "markdown",
   "metadata": {},
   "source": [
    "## List Comprehension에 조건문 사용하기"
   ]
  },
  {
   "cell_type": "markdown",
   "metadata": {},
   "source": [
    "List comprehension에서 조건문을 사용하는 것은 , 위에서 정리한\n",
    "```code\n",
    "[<expression with each item> for <each item> in <iterable>]\n",
    "```    \n",
    "에 if문을 어디에 놓는지만 이해할 수만 있다면 간단합니다. 하지만 중첩구조(nested)의 리스트 컴프리헨션에서 if문을 사용할 경우도 있기 때문에 이 부분을 확실히 이해하고 넘어가셔야 합니다.\n",
    "\n",
    "```code\n",
    "[<expression with each item> for <each item> in <iterable> if <condtion>]\n",
    "```"
   ]
  },
  {
   "cell_type": "markdown",
   "metadata": {},
   "source": [
    "이해를 위해 정말 간단한 예제만을 남겨두겠습니다.  \n",
    "1부터 20까지의 수의 배열에서... 오직 짝수인 원소의 제곱만을 구하는 예제입니다.  \n",
    "쉽죠??  "
   ]
  },
  {
   "cell_type": "code",
   "execution_count": 10,
   "metadata": {},
   "outputs": [
    {
     "name": "stdout",
     "output_type": "stream",
     "text": [
      "[4, 16, 36, 64, 100, 144, 196, 256, 324, 400]\n"
     ]
    }
   ],
   "source": [
    "even_square = [n*n for n in range(1,21) if n%2==0 ]\n",
    "print even_square"
   ]
  },
  {
   "cell_type": "markdown",
   "metadata": {},
   "source": [
    "위에서 정리한 if문과는 다르게 if, else문이 연달아서 나오는 경우도 생각하셔야 합니다.  \n",
    "이 경우 아래와 같이 사용할 수 있습니다.\n",
    "```code\n",
    "[<expression> if <condition> else <expression> for <each_item> in <iterable>]\n",
    "```\n",
    "자세히 보시면, if 문에는 condition이 있어야 하기 때문에 if문의 앞으로 expression이 이동했고, else 문에서는 조건이 필요하지 않기 때문에 expression을 그대로 위치시켰습니다.  \n",
    "위의 구문을 for문으로 풀어서 써보면 아래와 같습니다.  \n",
    "  \n",
    "```code\n",
    "for <each_item> in <iterable>:\n",
    "    if <condition>:\n",
    "        <expression with each item>\n",
    "    else:\n",
    "        <other expression with each item>\n",
    "```"
   ]
  },
  {
   "cell_type": "markdown",
   "metadata": {},
   "source": [
    "## 중첩 반복문을 List Comprehension으로"
   ]
  },
  {
   "cell_type": "markdown",
   "metadata": {},
   "source": [
    "리스트 컴프리헨션으로 표현할 수 있는 중첩 리스트 컴프리헨션에는 제약이 없다. 여러개의 for문을 리스트 컴프리헨션 안에 표시하는 방법은 아래와 같다.  \n",
    "  \n",
    "```code\n",
    "[<expression> for <each_item_1> in <iterable_1> (optional if <condition>)\n",
    "              for <each_item_2> in <iterable_2> (optional if <condition>)\n",
    "              for <each_item_3> in <iterable_3> (optional if <condition>)]\n",
    "```"
   ]
  },
  {
   "cell_type": "markdown",
   "metadata": {},
   "source": [
    "예를 들어 아래와 같은 중첩 for문이 있다고 하자."
   ]
  },
  {
   "cell_type": "code",
   "execution_count": 13,
   "metadata": {},
   "outputs": [
    {
     "name": "stdout",
     "output_type": "stream",
     "text": [
      "[1, 2, 3, 4, 5, 6, 7, 8, 9, 2, 4, 6, 8, 10, 12, 14, 16, 18, 3, 6, 9, 12, 15, 18, 21, 24, 27, 4, 8, 12, 16, 20, 24, 28, 32, 36]\n"
     ]
    }
   ],
   "source": [
    "# gugudan 1단 ~ 3단 \n",
    "gugu_1_4 = []\n",
    "for i in range(1,5):\n",
    "    for step in range(1,10):\n",
    "        gugu_1_4.append(i*step)\n",
    "\n",
    "print gugu_1_4"
   ]
  },
  {
   "cell_type": "markdown",
   "metadata": {},
   "source": [
    "이제 이 4단까지 출력하는 구구단을 list comprehension으로 표현해보면 아래와 같다."
   ]
  },
  {
   "cell_type": "code",
   "execution_count": 16,
   "metadata": {},
   "outputs": [
    {
     "name": "stdout",
     "output_type": "stream",
     "text": [
      "[1, 2, 3, 4, 5, 6, 7, 8, 9, 2, 4, 6, 8, 10, 12, 14, 16, 18, 3, 6, 9, 12, 15, 18, 21, 24, 27, 4, 8, 12, 16, 20, 24, 28, 32, 36]\n"
     ]
    }
   ],
   "source": [
    "gugu_1_4_test = [number*step for number in range(1,5) for step in range(1,10)]\n",
    "\n",
    "print gugu_1_4_test"
   ]
  },
  {
   "cell_type": "markdown",
   "metadata": {},
   "source": [
    "이렇게 중첩된 for문을 표현할 수도 있지만, 중첩된 리스트들을 하나의 리스트로 변환해줄 수도 있다."
   ]
  },
  {
   "cell_type": "code",
   "execution_count": 34,
   "metadata": {
    "scrolled": true
   },
   "outputs": [
    {
     "name": "stdout",
     "output_type": "stream",
     "text": [
      "[[1, 2, 3, 4, 5, 6, 7, 8, 9], [2, 4, 6, 8, 10, 12, 14, 16, 18], [3, 6, 9, 12, 15, 18, 21, 24, 27], [4, 8, 12, 16, 20, 24, 28, 32, 36]]\n",
      "\n",
      "=============================\n",
      "==== 2차원 배열을 1차원 배열로 ====\n",
      "[1, 2, 3, 4, 5, 6, 7, 8, 9, 2, 4, 6, 8, 10, 12, 14, 16, 18, 3, 6, 9, 12, 15, 18, 21, 24, 27, 4, 8, 12, 16, 20, 24, 28, 32, 36]\n"
     ]
    }
   ],
   "source": [
    "matrix = [\n",
    "    [1, 2, 3, 4,  5,  6,  7,  8,  9],\n",
    "    [2, 4, 6, 8,  10, 12, 14, 16, 18],\n",
    "    [3, 6, 9, 12, 15, 18, 21, 24, 27],\n",
    "    [4, 8, 12,16, 20, 24, 28, 32, 36]\n",
    "]\n",
    "\n",
    "l_matrix = [row for row in matrix]\n",
    "print l_matrix\n",
    "\n",
    "print \"\"\n",
    "print \"=============================\"\n",
    "print \"==== 2차원 배열을 1차원 배열로 ====\"\n",
    "listed_matrix = [data for each_row in matrix for data in each_row]\n",
    "print listed_matrix"
   ]
  },
  {
   "cell_type": "markdown",
   "metadata": {},
   "source": [
    "내부 for문은 항상 한 스텝 더 뒤에 위치한다는 감만 있다면 충분히 풀어낼 수 있다."
   ]
  },
  {
   "cell_type": "markdown",
   "metadata": {},
   "source": [
    "## 중첩 리스트를 list comprehension으로"
   ]
  },
  {
   "cell_type": "markdown",
   "metadata": {},
   "source": [
    "중첩된 리스트를 list comprehension으로 표현해보고자 한다.\n",
    "아래를 보면 4x9 인 배열이 존재한다.\n",
    "```code\n",
    "matrix = [\n",
    "    [1, 2, 3, 4,  5,  6,  7,  8,  9],\n",
    "    [2, 4, 6, 8,  10, 12, 14, 16, 18],\n",
    "    [3, 6, 9, 12, 15, 18, 21, 24, 27],\n",
    "    [4, 8, 12,16, 20, 24, 28, 32, 36]\n",
    "]\n",
    "```\n",
    "위와 같은 배열을 전치행렬을 하듯이 9x4로 뒤집어보는 예제를 만들어보고자 한다."
   ]
  },
  {
   "cell_type": "markdown",
   "metadata": {},
   "source": [
    "먼저 for문으로 표현해보면 아래와 같다."
   ]
  },
  {
   "cell_type": "code",
   "execution_count": 66,
   "metadata": {},
   "outputs": [
    {
     "name": "stdout",
     "output_type": "stream",
     "text": [
      "[[1, 2, 3, 4], [2, 4, 6, 8], [3, 6, 9, 12], [4, 8, 12, 16], [5, 10, 15, 20], [6, 12, 18, 24], [7, 14, 21, 28], [8, 16, 24, 32], [9, 18, 27, 36]]\n",
      "===========\n",
      "[[1, 2, 3, 4], [2, 4, 6, 8], [3, 6, 9, 12], [4, 8, 12, 16], [5, 10, 15, 20], [6, 12, 18, 24], [7, 14, 21, 28], [8, 16, 24, 32], [9, 18, 27, 36]]\n"
     ]
    }
   ],
   "source": [
    "matrix = [\n",
    "    [1, 2, 3, 4,  5,  6,  7,  8,  9],\n",
    "    [2, 4, 6, 8,  10, 12, 14, 16, 18],\n",
    "    [3, 6, 9, 12, 15, 18, 21, 24, 27],\n",
    "    [4, 8, 12,16, 20, 24, 28, 32, 36]\n",
    "]\n",
    "\n",
    "transpose = []\n",
    "\n",
    "# [0,0],[1,0],[2,0],[3,0]\n",
    "# [0,1],[1,1],[2,1],[3,1]\n",
    "# ...\n",
    "# [0,8],[1,8],[2,8],[3,8]\n",
    "\n",
    "for i in range(0,9):\n",
    "    l_temp = []\n",
    "    for j in range(0,4):\n",
    "        l_temp.append(matrix[j][i])\n",
    "    transpose.append(l_temp)\n",
    "\n",
    "print transpose\n",
    "\n",
    "## or\n",
    "transpose = []\n",
    "for i in range(0,9):\n",
    "    l_temp = []\n",
    "    for row in matrix:\n",
    "        l_temp.append(row[i])\n",
    "    transpose.append(l_temp)\n",
    "\n",
    "print \"===========\"\n",
    "print transpose"
   ]
  },
  {
   "cell_type": "markdown",
   "metadata": {},
   "source": [
    "위 구문을 다시 리스트 컴프리헨션으로 변환해보면 아래와 같다."
   ]
  },
  {
   "cell_type": "code",
   "execution_count": 92,
   "metadata": {},
   "outputs": [
    {
     "name": "stdout",
     "output_type": "stream",
     "text": [
      "이를 나열해보면 아래와 같다.\n",
      "[1, 2, 3, 4]\n",
      "[2, 4, 6, 8]\n",
      "[3, 6, 9, 12]\n",
      "[4, 8, 12, 16]\n",
      "[5, 10, 15, 20]\n",
      " ..... \n",
      "[9, 18, 27, 36]\n",
      "\n",
      "=========================\n",
      "정직하게 풀다보니...\n",
      "[1, 2, 3, 4]\n",
      "\n",
      "=========================\n",
      "아래는 컴프리헨션을 표현해본 결과\n",
      "[[1, 2, 3, 4], [2, 4, 6, 8], [3, 6, 9, 12], [4, 8, 12, 16], [5, 10, 15, 20], [6, 12, 18, 24], [7, 14, 21, 28], [8, 16, 24, 32], [9, 18, 27, 36]]\n"
     ]
    }
   ],
   "source": [
    "matrix = [\n",
    "    [1, 2, 3, 4,  5,  6,  7,  8,  9],\n",
    "    [2, 4, 6, 8,  10, 12, 14, 16, 18],\n",
    "    [3, 6, 9, 12, 15, 18, 21, 24, 27],\n",
    "    [4, 8, 12,16, 20, 24, 28, 32, 36]\n",
    "]\n",
    "\n",
    "# [0,0],[1,0],[2,0],[3,0]\n",
    "# [0,1],[1,1],[2,1],[3,1]\n",
    "# ...\n",
    "# [0,8],[1,8],[2,8],[3,8]\n",
    "\n",
    "print \"이를 나열해보면 아래와 같다.\"\n",
    "transpose = [sublist[0] for sublist in matrix]\n",
    "print transpose\n",
    "transpose = [sublist[1] for sublist in matrix]\n",
    "print transpose\n",
    "transpose = [sublist[2] for sublist in matrix]\n",
    "print transpose\n",
    "transpose = [sublist[3] for sublist in matrix]\n",
    "print transpose\n",
    "transpose = [sublist[4] for sublist in matrix]\n",
    "print transpose\n",
    "print \" ..... \"\n",
    "transpose = [sublist[8] for sublist in matrix]\n",
    "print transpose\n",
    "\n",
    "## ... \n",
    "## ...\n",
    "## ... 위의 과정을 계속 반복하면 되는데...\n",
    "## ...\n",
    "## ...\n",
    "## 결과값은 리스트들을 담는 또 하나의 큰 리스트가 되어야 하므로 컴프리헨션이 \n",
    "## 두개가 되어야 한다는 것을 파악할 수 있어야 한다.\n",
    "transpose = []\n",
    "temp = []\n",
    "\n",
    "transpose = [ [ each_item for each_item in sublist][0] \n",
    "             for sublist in matrix]\n",
    "print \"\"\n",
    "print \"=========================\"\n",
    "print \"정직하게 풀다보니...\"\n",
    "print transpose\n",
    "print \"\"\n",
    "\n",
    "# 위의 0이 들어갈 변수값을 변화시켜야 한다는 점에 착안해서 풀어보면...\n",
    "# 0열에 대해 0행, 1행, 2행, 3행 의 값을 얻어오고\n",
    "# 1열에 대해 0행, 1행, 2행, 3행 의 값을 얻오오고..\n",
    "\n",
    "transpose = []\n",
    "transpose = [[sublist[i] for sublist in matrix] for i in range(0,9)]\n",
    "print \"=========================\"\n",
    "print \"아래는 컴프리헨션을 표현해본 결과\"\n",
    "print transpose"
   ]
  }
 ],
 "metadata": {
  "kernelspec": {
   "display_name": "Python 2",
   "language": "python",
   "name": "python2"
  },
  "language_info": {
   "codemirror_mode": {
    "name": "ipython",
    "version": 2
   },
   "file_extension": ".py",
   "mimetype": "text/x-python",
   "name": "python",
   "nbconvert_exporter": "python",
   "pygments_lexer": "ipython2",
   "version": "2.7.13"
  }
 },
 "nbformat": 4,
 "nbformat_minor": 2
}

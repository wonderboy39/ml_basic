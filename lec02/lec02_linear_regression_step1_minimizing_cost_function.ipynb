{
 "cells": [
  {
   "cell_type": "markdown",
   "metadata": {},
   "source": [
    "# lec02 - linear regression\n"
   ]
  },
  {
   "cell_type": "markdown",
   "metadata": {},
   "source": [
    "## 풀고자 하는 문제가 regression으로 분류되는 경우는??\n",
    "![the case of regression](../img/the_case_of_regression22.png)"
   ]
  },
  {
   "cell_type": "markdown",
   "metadata": {},
   "source": [
    "## 풀어볼 문제\n",
    "아래와 같이 1시간 공부했을 때 1점, 2분 공부했을 때 2점, 3분 공부했을 때 3점... 이렇게 가정한 문제를 통해 regression을 어떻게 푸는지 배워본다.  \n",
    "비교적 수식이 간단해야 개념설명이 용이하고, 확실하므로 y=x인 일차방정식을 예로 든듯 하다.  \n",
    "![regression](../img/regression_example2.png)  \n",
    "  "
   ]
  },
  {
   "cell_type": "markdown",
   "metadata": {},
   "source": [
    "## linear모델\n",
    "어떤 선수들이 훈련을 많이 하면 할수록 성적이 좋아진다거나, 집의 가격을 예측할때 집의 크기가 크면 클수록 가격이 올라간다던가 하는 것을 linear한 모델이라고 할 수 있다."
   ]
  },
  {
   "cell_type": "markdown",
   "metadata": {},
   "source": [
    "## linear regression의 첫번째 단계\n",
    "### 일차 방정식으로 이루어진 가설을 세운다.\n",
    "풀어내고자 하는 문제의 모형이 일차방정식이 될 것이다라고 가정을 세우는 단계이다.  \n",
    "![hypothesis](../img/linear_regression_hypothesis1.png)\n"
   ]
  },
  {
   "cell_type": "markdown",
   "metadata": {},
   "source": [
    "문제의 모형이 일차방정식일 것이라고 가정을 했을 경우, 어떤 그래프가 조금 더 training set에 근접한 방정식일지 알아낼 수 있어야 한다. 아래 그림을 보면 노란 그래프의 경우 y = 0.5x + 2와 유사한 형태이고, 파란 그래프의 경우 y = 1x이다.\n",
    "![linear_regression2](../img/linear_regression_hypothesis2.png)"
   ]
  },
  {
   "cell_type": "markdown",
   "metadata": {},
   "source": [
    "실제 training set에서 모형을 추출하는 'Which hypothesis is better?'단계는 실제 training set을 나타내는 실제 데이터의 좌표와 가설 H(x)의 거리가 멀 경우는 나쁘고 가까워 질 수록 좋은 모델이라고 추측하는 단계이다. 이와 같은 방식으로 구하는 것을 **cost function**이라고 부른다.  \n",
    "![cost function](../img/cost_function.png)  \n",
    "\n",
    "가설인 H(x)와 실제 데이터인 y값의 차를 구하고, 이것의 제곱을 통해 오차, 즉 cost가 클 경우 패널티를 부여하는 방식으로 구해내게 된다. 만약 단순히 H(x) - y만으로 구해낼 경우 오차가 얼마나 큰지 구하기에는 좋지 않은 방식이라고 하며, (H(x) - y)^2 이 될 경우 cost가 커질수록 패널티가 생기므로 H(x)와 y의 차이의 제곱을 통해 cost function을 구해내는 듯 하다."
   ]
  },
  {
   "cell_type": "markdown",
   "metadata": {},
   "source": [
    "## 위의 cost function을 수학적으로 일반화된 식으로 표현하면...\n",
    "위의 식을 일반화 된 식으로 구해보면 아래와 같다. 각 x값을 대입했을 때의 값인 H(x)와 y의 차의 제곱을 x값의 갯수만큼(정의역의 크기?만큼) 구하고 또 이 값을 정의역의 갯수만큼 나눈다.  \n",
    "![cost function](../img/cost_function_generalized.png)    \n",
    "  \n",
    "cost function 을 위와 같이 구하다보면 아래와 같이 cost function은 W, b의 함수로 나타낼 수 있으며, cost function에서 우리가 원하는 목표는 cost를 최소화 하는 것, 즉, cost가 가장 작은 지점에서의 W, b를 찾아내는 것이다.  \n",
    "![cost_function2](../img/cost_function2.png)  \n",
    "  \n",
    "결국 최종적인 목표는 아래와 같이 cost를 최소화하는 w, b의 값을 찾아내는 것이다. 찾아낸 결과는 실제 값인 y에 일치할 수도 근사치일 수도 있다. 핵심은 w,b를 찾아내기 위해 cost function을 사용했다는 점이다....    \n",
    "![minimize_cost](../img/minimize_cost.png)"
   ]
  }
 ],
 "metadata": {
  "kernelspec": {
   "display_name": "Python 2",
   "language": "python",
   "name": "python2"
  },
  "language_info": {
   "codemirror_mode": {
    "name": "ipython",
    "version": 2
   },
   "file_extension": ".py",
   "mimetype": "text/x-python",
   "name": "python",
   "nbconvert_exporter": "python",
   "pygments_lexer": "ipython2",
   "version": "2.7.13"
  }
 },
 "nbformat": 4,
 "nbformat_minor": 2
}

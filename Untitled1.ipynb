{
 "cells": [
  {
   "cell_type": "code",
   "execution_count": 1,
   "metadata": {},
   "outputs": [],
   "source": [
    "class Fruits():\n",
    "    def say_name(self):\n",
    "        print \"I'm a fruit\""
   ]
  },
  {
   "cell_type": "code",
   "execution_count": 2,
   "metadata": {},
   "outputs": [],
   "source": [
    "class Apple(Fruits):\n",
    "    pass"
   ]
  },
  {
   "cell_type": "code",
   "execution_count": 4,
   "metadata": {},
   "outputs": [],
   "source": [
    "fruits = Fruits()\n",
    "apple = Apple()"
   ]
  },
  {
   "cell_type": "code",
   "execution_count": 6,
   "metadata": {},
   "outputs": [
    {
     "name": "stdout",
     "output_type": "stream",
     "text": [
      "I'm a fruit\n",
      "I'm a fruit\n"
     ]
    }
   ],
   "source": [
    "fruits.say_name()\n",
    "apple.say_name()"
   ]
  },
  {
   "cell_type": "code",
   "execution_count": null,
   "metadata": {},
   "outputs": [],
   "source": []
  },
  {
   "cell_type": "markdown",
   "metadata": {},
   "source": [
    "### 메소드 오버라이드\n"
   ]
  },
  {
   "cell_type": "code",
   "execution_count": 10,
   "metadata": {},
   "outputs": [],
   "source": [
    "class Fruits():\n",
    "    def __init__(self, name):\n",
    "        self.name = name\n",
    "    def say_name(self):\n",
    "        print \"I'm a fruit\""
   ]
  },
  {
   "cell_type": "code",
   "execution_count": 23,
   "metadata": {},
   "outputs": [],
   "source": [
    "class Apple():\n",
    "    def __init__(self, name):\n",
    "        self.name = name + ', Also is a kind of Fruits.'\n",
    "    def say_name(self):\n",
    "        print \"APPLE >>> \" + self.name"
   ]
  },
  {
   "cell_type": "code",
   "execution_count": 12,
   "metadata": {},
   "outputs": [],
   "source": [
    "class Banana():\n",
    "    def __init__(self, name):\n",
    "        self.name = name + ', Also is a kind of Fruts. Delicious'"
   ]
  },
  {
   "cell_type": "code",
   "execution_count": 25,
   "metadata": {},
   "outputs": [
    {
     "name": "stdout",
     "output_type": "stream",
     "text": [
      "Fruits\n",
      "Apple, Also is a kind of Fruits.\n",
      "Banana, Also is a kind of Fruts. Delicious\n",
      "I'm a fruit\n",
      "None\n",
      "APPLE >>> Apple, Also is a kind of Fruits.\n",
      "None\n"
     ]
    }
   ],
   "source": [
    "fruits = Fruits('Fruits')\n",
    "apple = Apple('Apple')\n",
    "banana = Banana('Banana')\n",
    "\n",
    "print(fruits.name)\n",
    "print(apple.name)\n",
    "print(banana.name)\n",
    "\n",
    "print (fruits.say_name())\n",
    "print (apple.say_name())"
   ]
  }
 ],
 "metadata": {
  "kernelspec": {
   "display_name": "Python 2",
   "language": "python",
   "name": "python2"
  },
  "language_info": {
   "codemirror_mode": {
    "name": "ipython",
    "version": 2
   },
   "file_extension": ".py",
   "mimetype": "text/x-python",
   "name": "python",
   "nbconvert_exporter": "python",
   "pygments_lexer": "ipython2",
   "version": "2.7.13"
  }
 },
 "nbformat": 4,
 "nbformat_minor": 2
}

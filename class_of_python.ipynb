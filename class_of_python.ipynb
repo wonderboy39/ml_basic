{
 "cells": [
  {
   "cell_type": "markdown",
   "metadata": {},
   "source": [
    "# python의 클래스 (초안)"
   ]
  },
  {
   "cell_type": "code",
   "execution_count": 1,
   "metadata": {},
   "outputs": [],
   "source": [
    "class Fruits():\n",
    "    def __init__(self, name):\n",
    "        self.name = name\n",
    "        \n",
    "    def say_name(self):\n",
    "        print self.name\n",
    "\n",
    "class Apple(Fruits):\n",
    "    def __init__(self, name):\n",
    "        self.name = name\n",
    "        \n",
    "    def say_my_name(self):\n",
    "        print self.name\n",
    "\n",
    "class Banana(Fruits):\n",
    "    def _init__(self, name):\n",
    "        self.name = name\n",
    "    \n",
    "    def say_my_name(self):\n",
    "        print name\n",
    "        \n",
    "fruits = Fruits('fruits, all')\n",
    "apple = Apple('Apple')\n",
    "banana = Banana('Banana')"
   ]
  },
  {
   "cell_type": "code",
   "execution_count": 2,
   "metadata": {
    "scrolled": true
   },
   "outputs": [
    {
     "name": "stdout",
     "output_type": "stream",
     "text": [
      "fruits, all\n",
      "Apple\n",
      "Banana\n",
      "<unbound method Fruits.say_name>\n",
      "<unbound method Apple.say_name>\n"
     ]
    }
   ],
   "source": [
    "fruits.say_name()\n",
    "apple.say_name()\n",
    "banana.say_name()\n",
    "print Fruits.say_name\n",
    "print Apple.say_name"
   ]
  },
  {
   "cell_type": "code",
   "execution_count": 3,
   "metadata": {},
   "outputs": [
    {
     "name": "stdout",
     "output_type": "stream",
     "text": [
      "From California\n",
      "From California\n",
      "fruits, all\n"
     ]
    }
   ],
   "source": [
    "apple.name = 'From California'\n",
    "apple.say_my_name()\n",
    "apple.say_name()\n",
    "fruits.say_name()"
   ]
  },
  {
   "cell_type": "code",
   "execution_count": 45,
   "metadata": {},
   "outputs": [
    {
     "name": "stdout",
     "output_type": "stream",
     "text": [
      "Banana is called\n",
      "=== member variable test ===\n",
      "Fruits\n",
      "Apple, Also is a kind of Fruits.\n",
      "Banana, Also is a kind of Fruts. Delicious\n",
      "\n",
      "=== say_name test ===\n",
      "I'm a fruit\n",
      "None\n",
      "APPLE Said, >>> Apple, Also is a kind of Fruits.\n",
      "None\n",
      "BANANA Said, >>> Banana, Also is a kind of Fruts. Delicious\n",
      "None\n"
     ]
    }
   ],
   "source": [
    "class Fruits():\n",
    "    def __init__(self, name):\n",
    "        self.name = name\n",
    "    def say_name(self):\n",
    "        print \"I'm a fruit\"\n",
    "        \n",
    "class Apple():\n",
    "    def __init__(self, name):\n",
    "        self.name = name + ', Also is a kind of Fruits.'\n",
    "    def say_name(self):\n",
    "        print \"APPLE Said, >>> \" + self.name\n",
    "\n",
    "class Banana():\n",
    "    def __init__(self, name):\n",
    "        self.name = name + ', Also is a kind of Fruts. Delicious'\n",
    "    def say_name(self):\n",
    "        print \"BANANA Said, >>> \" + self.name\n",
    "\n",
    "fruits = Fruits('Fruits')\n",
    "apple = Apple('Apple')\n",
    "banana = Banana('Banana')\n",
    "\n",
    "print \"=== member variable test ===\"\n",
    "print(fruits.name)\n",
    "print(apple.name)\n",
    "print(banana.name)\n",
    "\n",
    "print \"\"\n",
    "print \"=== say_name test ===\"\n",
    "print (fruits.say_name())\n",
    "print (apple.say_name())\n",
    "print (banana.say_name())\n"
   ]
  },
  {
   "cell_type": "code",
   "execution_count": 50,
   "metadata": {},
   "outputs": [
    {
     "name": "stdout",
     "output_type": "stream",
     "text": [
      "Apple3 is called.\n"
     ]
    }
   ],
   "source": [
    "class Fruits3(object):\n",
    "    def __init__(self):\n",
    "        print \"__init__ is called\"\n",
    "        \n",
    "    def __init__(self, name):\n",
    "        self.name = name\n",
    "        print \"name :: \" + self.name + \"\"\n",
    "#         self.name = name\n",
    "    def __init__(self, name, price):\n",
    "        print \"__ini__(self,name,price) is called \"\n",
    "        \n",
    "class Apple3(Fruits3):\n",
    "    def __init__(self, name, price):\n",
    "#         super(Fruits3, self).__init__(name)\n",
    "        super(Fruits3, self).__init__()\n",
    "#         super(Fruits3, self).__init__(super, name) # 에러\n",
    "    \n",
    "        self.price = price\n",
    "        print 'Apple3 is called.'\n",
    "        \n",
    "        \n",
    "apple3 = Apple3('Apple, From Daegu, Korea', 1000)"
   ]
  },
  {
   "cell_type": "code",
   "execution_count": 18,
   "metadata": {},
   "outputs": [
    {
     "ename": "TypeError",
     "evalue": "super() takes at least 1 argument (0 given)",
     "output_type": "error",
     "traceback": [
      "\u001b[0;31m---------------------------------------------------------------------------\u001b[0m",
      "\u001b[0;31mTypeError\u001b[0m                                 Traceback (most recent call last)",
      "\u001b[0;32m<ipython-input-18-788a9bb94cab>\u001b[0m in \u001b[0;36m<module>\u001b[0;34m()\u001b[0m\n\u001b[1;32m     16\u001b[0m \u001b[0;34m\u001b[0m\u001b[0m\n\u001b[1;32m     17\u001b[0m \u001b[0;34m\u001b[0m\u001b[0m\n\u001b[0;32m---> 18\u001b[0;31m \u001b[0mapple\u001b[0m \u001b[0;34m=\u001b[0m \u001b[0mApple2\u001b[0m\u001b[0;34m(\u001b[0m\u001b[0;34m'Apple, From Daegu, Korea.'\u001b[0m\u001b[0;34m,\u001b[0m \u001b[0;36m1000\u001b[0m\u001b[0;34m)\u001b[0m\u001b[0;34m\u001b[0m\u001b[0m\n\u001b[0m\u001b[1;32m     19\u001b[0m \u001b[0;31m# banana = Banana2('Banana, From Unknown, Africa', 1500)\u001b[0m\u001b[0;34m\u001b[0m\u001b[0;34m\u001b[0m\u001b[0m\n\u001b[1;32m     20\u001b[0m \u001b[0;34m\u001b[0m\u001b[0m\n",
      "\u001b[0;32m<ipython-input-18-788a9bb94cab>\u001b[0m in \u001b[0;36m__init__\u001b[0;34m(self, name, price)\u001b[0m\n\u001b[1;32m      6\u001b[0m \u001b[0;32mclass\u001b[0m \u001b[0mApple2\u001b[0m\u001b[0;34m(\u001b[0m\u001b[0mFruits2\u001b[0m\u001b[0;34m)\u001b[0m\u001b[0;34m:\u001b[0m\u001b[0;34m\u001b[0m\u001b[0m\n\u001b[1;32m      7\u001b[0m     \u001b[0;32mdef\u001b[0m \u001b[0m__init__\u001b[0m\u001b[0;34m(\u001b[0m\u001b[0mself\u001b[0m\u001b[0;34m,\u001b[0m \u001b[0mname\u001b[0m\u001b[0;34m,\u001b[0m \u001b[0mprice\u001b[0m\u001b[0;34m)\u001b[0m\u001b[0;34m:\u001b[0m\u001b[0;34m\u001b[0m\u001b[0m\n\u001b[0;32m----> 8\u001b[0;31m         \u001b[0msuper\u001b[0m\u001b[0;34m(\u001b[0m\u001b[0;34m)\u001b[0m\u001b[0;34m.\u001b[0m\u001b[0m__init__\u001b[0m\u001b[0;34m(\u001b[0m\u001b[0mname\u001b[0m\u001b[0;34m)\u001b[0m\u001b[0;34m\u001b[0m\u001b[0m\n\u001b[0m\u001b[1;32m      9\u001b[0m         \u001b[0mself\u001b[0m\u001b[0;34m.\u001b[0m\u001b[0mprice\u001b[0m \u001b[0;34m=\u001b[0m \u001b[0mprice\u001b[0m\u001b[0;34m\u001b[0m\u001b[0m\n\u001b[1;32m     10\u001b[0m \u001b[0;34m\u001b[0m\u001b[0m\n",
      "\u001b[0;31mTypeError\u001b[0m: super() takes at least 1 argument (0 given)"
     ]
    }
   ],
   "source": [
    "class Fruits2():\n",
    "    def __init__(self, name):\n",
    "        self.name = name\n",
    "        \n",
    "\n",
    "class Apple2(Fruits2):\n",
    "    def __init__(self, name, price):\n",
    "        super().__init__(name)\n",
    "        self.price = price\n",
    "\n",
    "\n",
    "# class Banana2(Fruits2):\n",
    "#     def __init__(self, name, price):\n",
    "#         super().__init__(name)\n",
    "#         self.price = price\n",
    "\n",
    "\n",
    "apple = Apple2('Apple, From Daegu, Korea.', 1000)\n",
    "# banana = Banana2('Banana, From Unknown, Africa', 1500)\n",
    "\n",
    "apple.name"
   ]
  },
  {
   "cell_type": "code",
   "execution_count": null,
   "metadata": {},
   "outputs": [],
   "source": []
  }
 ],
 "metadata": {
  "kernelspec": {
   "display_name": "Python 2",
   "language": "python",
   "name": "python2"
  },
  "language_info": {
   "codemirror_mode": {
    "name": "ipython",
    "version": 2
   },
   "file_extension": ".py",
   "mimetype": "text/x-python",
   "name": "python",
   "nbconvert_exporter": "python",
   "pygments_lexer": "ipython2",
   "version": "2.7.13"
  }
 },
 "nbformat": 4,
 "nbformat_minor": 2
}

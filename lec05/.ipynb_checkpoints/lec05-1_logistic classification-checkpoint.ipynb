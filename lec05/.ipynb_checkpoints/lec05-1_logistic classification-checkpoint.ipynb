{
 "cells": [
  {
   "cell_type": "markdown",
   "metadata": {},
   "source": [
    "# lec05 : logistic classification"
   ]
  },
  {
   "cell_type": "markdown",
   "metadata": {},
   "source": [
    "# review : regression의 의미\n",
    "- **Hypothesis:**  \n",
    "- **Cost:**  \n",
    "- **Gradient decent:** learning_rate? a?  \n",
    "cost function에 곱하는 a(alpha)의 의미는 **learning_rate**를 의미한다. **learning_rate**는 미분을 한번의 step에서 어느정도를 더 다가갈지를 의미한다.  \n",
    "![learning_rate](../img/lec5_1/linear_regression_learning_rate.png)\n"
   ]
  },
  {
   "cell_type": "markdown",
   "metadata": {},
   "source": [
    "## Classification\n",
    "  \n",
    "## Regression vs Classification\n",
    " - Spam Detection : Spam or Ham\n",
    " - Facebook feed : show or hid\n",
    " - Credit Card Fraudulent Transaction detection: legitimate/fraud"
   ]
  }
 ],
 "metadata": {
  "kernelspec": {
   "display_name": "Python 2",
   "language": "python",
   "name": "python2"
  },
  "language_info": {
   "codemirror_mode": {
    "name": "ipython",
    "version": 2
   },
   "file_extension": ".py",
   "mimetype": "text/x-python",
   "name": "python",
   "nbconvert_exporter": "python",
   "pygments_lexer": "ipython2",
   "version": "2.7.13"
  }
 },
 "nbformat": 4,
 "nbformat_minor": 2
}

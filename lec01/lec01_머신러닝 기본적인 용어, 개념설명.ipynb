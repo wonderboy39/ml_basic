{
 "cells": [
  {
   "cell_type": "markdown",
   "metadata": {},
   "source": [
    "# Lec01"
   ]
  },
  {
   "cell_type": "markdown",
   "metadata": {},
   "source": [
    "### Supervised vs Unsupervised learning\n",
    "![unsupervised learning vs supervised learning](../img/supervised_unsupervised.png)\n",
    "- **Supervised learning**  \n",
    "  : 이미 labeled 되어있는 데이터로 학습하는 경우(label을 정해놓은 데이터로 학습, 데이터들을 training set이라고 부른다.)  \n",
    "  : 아래 그림을 보면 테스트 셋에 사람들이 미리 cat, dog인지를 정확하게 입력해놓으면(label을 달아놓으면) 이 데이터(training set)를 기반으로 학습하게 된다.  \n",
    "  ![supervised_learning](../img/supervised_learning_example.png)\n",
    "  \n",
    "- **Unsupervised learning: un-labeled data**  \n",
    "  ex) Google news grouping  \n",
    "       구글 뉴스는 자동적으로 유사한 뉴스를 그루핑 해준다.\n",
    "      Word clustering  \n",
    "       Word clustering : 단어들 가운데에서도 유사한 단어들을 뽑아주는 것.  \n",
    "       "
   ]
  },
  {
   "cell_type": "markdown",
   "metadata": {},
   "source": [
    "## supervised learning이 실제로 사용되는 예\n",
    "  \n",
    "![an example of supervised learning](../img/supervised_learning_example_3.png)  \n",
    "\n",
    "알파고 vs 이세돌 역시 기존에 존재하던 바둑 기보들을 기반으로 학습하도록 유도하도록 했으므로 labeled 된 training set을 기반으로 학습했으므로 supervised learning이라고 볼 수 있다."
   ]
  },
  {
   "cell_type": "markdown",
   "metadata": {},
   "source": [
    "## supervised learning의 종류  \n",
    "- **regression**  \n",
    "  ex) 공부한 시간에 기초해 몇점의 점수를 받을지 예측하는 경우 (0~100점)  \n",
    "  \n",
    "- **binary classification**  \n",
    "  ex) 공부한 시간에 기초해 시험에 붙느냐, 떨어지느냐를 예측하는 경우 (Pass/Non Pass)  결과가 이진법(0 or 1)으로 나누어지는 경우\n",
    "  \n",
    "- **multi-label classification**  \n",
    "  ex) 공부한 시간에 기초해 시험에서 A/B/C/D/E/F 중에서 어떤 점수를 받을지 예측하는 경우\n",
    "  \n",
    "\n",
    "![type of supervised learning](../img/type_of_supervised_learning2.png)"
   ]
  },
  {
   "cell_type": "markdown",
   "metadata": {},
   "source": [
    "## regression 적용되는 경우 \n",
    "##  ex) : 기말고사에서 받을 점수 예측\n",
    "아래의 경우 어느 정도의 점수를 받을지(0~100)를 예측하는 류의 케이스이므로 regression으로 분류할 수 있다.  \n",
    "![the case of regression](../img/regression_case.png)  \n",
    "\n",
    "\n",
    "\n"
   ]
  }
 ],
 "metadata": {
  "kernelspec": {
   "display_name": "Python 2",
   "language": "python",
   "name": "python2"
  },
  "language_info": {
   "codemirror_mode": {
    "name": "ipython",
    "version": 2
   },
   "file_extension": ".py",
   "mimetype": "text/x-python",
   "name": "python",
   "nbconvert_exporter": "python",
   "pygments_lexer": "ipython2",
   "version": "2.7.13"
  }
 },
 "nbformat": 4,
 "nbformat_minor": 2
}
